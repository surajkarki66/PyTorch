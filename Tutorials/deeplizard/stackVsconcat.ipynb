{
 "metadata": {
  "language_info": {
   "codemirror_mode": {
    "name": "ipython",
    "version": 3
   },
   "file_extension": ".py",
   "mimetype": "text/x-python",
   "name": "python",
   "nbconvert_exporter": "python",
   "pygments_lexer": "ipython3",
   "version": "3.8.2-final"
  },
  "orig_nbformat": 2,
  "kernelspec": {
   "name": "python_defaultSpec_1599448321205",
   "display_name": "Python 3.8.2 64-bit"
  }
 },
 "nbformat": 4,
 "nbformat_minor": 2,
 "cells": [
  {
   "cell_type": "markdown",
   "metadata": {},
   "source": [
    "#### Stack operation\n",
    "Stacking joins a sequence of tensors along a new axis"
   ]
  },
  {
   "cell_type": "markdown",
   "metadata": {},
   "source": [
    "#### Concatenation operation\n",
    "Concatenation joins a sequence of tensors along an existing axis."
   ]
  },
  {
   "cell_type": "markdown",
   "metadata": {},
   "source": [
    "##### Stacking in pytorch"
   ]
  },
  {
   "cell_type": "code",
   "execution_count": 3,
   "metadata": {},
   "outputs": [],
   "source": [
    "import torch"
   ]
  },
  {
   "cell_type": "code",
   "execution_count": 11,
   "metadata": {},
   "outputs": [],
   "source": [
    "t1= torch.tensor([1, 1, 1])  # there exist only row\n",
    "t2 = torch.tensor([2, 2, 2])\n",
    "t3 = torch.tensor([3, 3, 3])"
   ]
  },
  {
   "cell_type": "code",
   "execution_count": 5,
   "metadata": {},
   "outputs": [
    {
     "output_type": "execute_result",
     "data": {
      "text/plain": "torch.Size([3])"
     },
     "metadata": {},
     "execution_count": 5
    }
   ],
   "source": [
    "t1.shape"
   ]
  },
  {
   "cell_type": "code",
   "execution_count": 10,
   "metadata": {},
   "outputs": [
    {
     "output_type": "execute_result",
     "data": {
      "text/plain": "tensor([1, 1, 1, 2, 2, 2, 3, 3, 3])"
     },
     "metadata": {},
     "execution_count": 10
    }
   ],
   "source": [
    "torch.cat((t1, t2, t3), dim=0) # dim=0 (is row) and dim=1 (is col)"
   ]
  },
  {
   "cell_type": "code",
   "execution_count": 7,
   "metadata": {},
   "outputs": [
    {
     "output_type": "execute_result",
     "data": {
      "text/plain": "torch.Size([9])"
     },
     "metadata": {},
     "execution_count": 7
    }
   ],
   "source": [
    "torch.cat((t1, t2, t3), dim=0).shape"
   ]
  },
  {
   "cell_type": "code",
   "execution_count": 12,
   "metadata": {},
   "outputs": [
    {
     "output_type": "execute_result",
     "data": {
      "text/plain": "tensor([[1, 1, 1],\n        [2, 2, 2],\n        [3, 3, 3]])"
     },
     "metadata": {},
     "execution_count": 12
    }
   ],
   "source": [
    "torch.stack((t1, t2, t3), dim=0)"
   ]
  },
  {
   "cell_type": "code",
   "execution_count": 13,
   "metadata": {},
   "outputs": [
    {
     "output_type": "execute_result",
     "data": {
      "text/plain": "torch.Size([3, 3])"
     },
     "metadata": {},
     "execution_count": 13
    }
   ],
   "source": [
    "torch.stack((t1, t2, t3), dim=0).shape"
   ]
  },
  {
   "cell_type": "code",
   "execution_count": 14,
   "metadata": {},
   "outputs": [
    {
     "output_type": "execute_result",
     "data": {
      "text/plain": "tensor([[1, 2, 3],\n        [1, 2, 3],\n        [1, 2, 3]])"
     },
     "metadata": {},
     "execution_count": 14
    }
   ],
   "source": [
    "torch.stack((t1, t2, t3), dim=1)  # along the column"
   ]
  },
  {
   "cell_type": "code",
   "execution_count": 16,
   "metadata": {},
   "outputs": [],
   "source": [
    "T1 = torch.tensor([\n",
    "    [1, 2, 3],\n",
    "    [1, 2, 3]\n",
    "])"
   ]
  },
  {
   "cell_type": "code",
   "execution_count": 17,
   "metadata": {},
   "outputs": [
    {
     "output_type": "execute_result",
     "data": {
      "text/plain": "torch.Size([2, 3])"
     },
     "metadata": {},
     "execution_count": 17
    }
   ],
   "source": [
    "T1.shape"
   ]
  },
  {
   "cell_type": "code",
   "execution_count": 18,
   "metadata": {},
   "outputs": [],
   "source": [
    "T2 = torch.tensor([\n",
    "    [1, 1, 1],\n",
    "    [2, 2, 2]\n",
    "])"
   ]
  },
  {
   "cell_type": "code",
   "execution_count": 19,
   "metadata": {},
   "outputs": [
    {
     "output_type": "execute_result",
     "data": {
      "text/plain": "tensor([[1, 2, 3],\n        [1, 2, 3],\n        [1, 1, 1],\n        [2, 2, 2]])"
     },
     "metadata": {},
     "execution_count": 19
    }
   ],
   "source": [
    "torch.cat((T1, T2), dim=0)"
   ]
  },
  {
   "cell_type": "code",
   "execution_count": 20,
   "metadata": {},
   "outputs": [
    {
     "output_type": "execute_result",
     "data": {
      "text/plain": "torch.Size([4, 3])"
     },
     "metadata": {},
     "execution_count": 20
    }
   ],
   "source": [
    "torch.cat((T1, T2), dim=0).shape"
   ]
  },
  {
   "cell_type": "code",
   "execution_count": 23,
   "metadata": {},
   "outputs": [
    {
     "output_type": "execute_result",
     "data": {
      "text/plain": "tensor([[1, 2, 3, 1, 1, 1],\n        [1, 2, 3, 2, 2, 2]])"
     },
     "metadata": {},
     "execution_count": 23
    }
   ],
   "source": [
    "torch.cat((T1, T2), dim=1)"
   ]
  },
  {
   "cell_type": "code",
   "execution_count": 24,
   "metadata": {},
   "outputs": [
    {
     "output_type": "execute_result",
     "data": {
      "text/plain": "tensor([[[1, 2, 3],\n         [1, 2, 3]],\n\n        [[1, 1, 1],\n         [2, 2, 2]]])"
     },
     "metadata": {},
     "execution_count": 24
    }
   ],
   "source": [
    "torch.stack((T1, T2), dim=0)"
   ]
  },
  {
   "cell_type": "code",
   "execution_count": 26,
   "metadata": {},
   "outputs": [
    {
     "output_type": "execute_result",
     "data": {
      "text/plain": "torch.Size([2, 2, 3])"
     },
     "metadata": {},
     "execution_count": 26
    }
   ],
   "source": [
    "torch.stack((T1, T2), dim=0).shape # add new axis to joins elements"
   ]
  },
  {
   "cell_type": "code",
   "execution_count": 27,
   "metadata": {},
   "outputs": [
    {
     "output_type": "execute_result",
     "data": {
      "text/plain": "tensor([[[1, 2, 3],\n         [1, 1, 1]],\n\n        [[1, 2, 3],\n         [2, 2, 2]]])"
     },
     "metadata": {},
     "execution_count": 27
    }
   ],
   "source": [
    "torch.stack((T1, T2), dim=1)"
   ]
  },
  {
   "cell_type": "code",
   "execution_count": 28,
   "metadata": {},
   "outputs": [
    {
     "output_type": "execute_result",
     "data": {
      "text/plain": "torch.Size([2, 2, 3])"
     },
     "metadata": {},
     "execution_count": 28
    }
   ],
   "source": [
    "torch.stack((T1, T2), dim=1).shape # joining tensor along second axis"
   ]
  },
  {
   "cell_type": "code",
   "execution_count": 30,
   "metadata": {},
   "outputs": [
    {
     "output_type": "execute_result",
     "data": {
      "text/plain": "torch.Size([2, 3, 2])"
     },
     "metadata": {},
     "execution_count": 30
    }
   ],
   "source": [
    "torch.stack((T1, T2), dim=2).shape # joining tensor along third axis"
   ]
  },
  {
   "cell_type": "code",
   "execution_count": null,
   "metadata": {},
   "outputs": [],
   "source": []
  }
 ]
}