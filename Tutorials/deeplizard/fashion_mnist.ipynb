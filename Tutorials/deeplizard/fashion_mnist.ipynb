{
 "metadata": {
  "language_info": {
   "codemirror_mode": {
    "name": "ipython",
    "version": 3
   },
   "file_extension": ".py",
   "mimetype": "text/x-python",
   "name": "python",
   "nbconvert_exporter": "python",
   "pygments_lexer": "ipython3",
   "version": "3.8.2-final"
  },
  "orig_nbformat": 2,
  "kernelspec": {
   "name": "python_defaultSpec_1599231911317",
   "display_name": "Python 3.8.2 64-bit"
  }
 },
 "nbformat": 4,
 "nbformat_minor": 2,
 "cells": [
  {
   "cell_type": "markdown",
   "metadata": {},
   "source": [
    "## The Project (Birds eye view)"
   ]
  },
  {
   "cell_type": "markdown",
   "metadata": {},
   "source": [
    "### 1) Prepare the data"
   ]
  },
  {
   "cell_type": "code",
   "execution_count": 1,
   "metadata": {},
   "outputs": [],
   "source": [
    "import torch\n",
    "import torchvision\n",
    "import torchvision.transforms as transforms"
   ]
  },
  {
   "cell_type": "code",
   "execution_count": 2,
   "metadata": {
    "tags": []
   },
   "outputs": [
    {
     "output_type": "stream",
     "name": "stderr",
     "text": "0it [00:00, ?it/s]Downloading http://fashion-mnist.s3-website.eu-central-1.amazonaws.com/train-images-idx3-ubyte.gz to ./data/FashionMNIST/FashionMNIST/raw/train-images-idx3-ubyte.gz\n100%|█████████▉| 26411008/26421880 [02:51<00:00, 200768.13it/s]Extracting ./data/FashionMNIST/FashionMNIST/raw/train-images-idx3-ubyte.gz to ./data/FashionMNIST/FashionMNIST/raw\n\n0it [00:00, ?it/s]\u001b[ADownloading http://fashion-mnist.s3-website.eu-central-1.amazonaws.com/train-labels-idx1-ubyte.gz to ./data/FashionMNIST/FashionMNIST/raw/train-labels-idx1-ubyte.gz\n\n  0%|          | 0/29515 [00:00<?, ?it/s]\u001b[A\n32768it [00:01, 27425.97it/s]\n\n0it [00:00, ?it/s]\u001b[AExtracting ./data/FashionMNIST/FashionMNIST/raw/train-labels-idx1-ubyte.gz to ./data/FashionMNIST/FashionMNIST/raw\nDownloading http://fashion-mnist.s3-website.eu-central-1.amazonaws.com/t10k-images-idx3-ubyte.gz to ./data/FashionMNIST/FashionMNIST/raw/t10k-images-idx3-ubyte.gz\n\n  0%|          | 0/4422102 [00:00<?, ?it/s]\u001b[A\n  0%|          | 16384/4422102 [00:00<01:13, 59985.26it/s]\u001b[A\n  1%|          | 49152/4422102 [00:01<01:00, 71801.57it/s]\u001b[A\n  2%|▏         | 81920/4422102 [00:01<01:03, 68652.76it/s]\u001b[A\n  4%|▎         | 163840/4422102 [00:02<00:49, 86102.73it/s]\u001b[A\n  5%|▍         | 212992/4422102 [00:02<00:43, 97846.32it/s]\u001b[A\n  8%|▊         | 360448/4422102 [00:02<00:30, 132975.02it/s]\u001b[A\n  9%|▉         | 393216/4422102 [00:02<00:25, 156859.90it/s]\u001b[A\n 10%|▉         | 425984/4422102 [00:03<00:34, 114179.49it/s]\u001b[A\n 15%|█▍        | 655360/4422102 [00:03<00:23, 157571.38it/s]\u001b[A\n 16%|█▋        | 720896/4422102 [00:03<00:20, 184703.80it/s]\u001b[A\n 18%|█▊        | 786432/4422102 [00:03<00:18, 201221.09it/s]\u001b[A\n 20%|██        | 884736/4422102 [00:04<00:15, 226764.32it/s]\u001b[A\n 22%|██▏       | 958464/4422102 [00:05<00:23, 146571.28it/s]\u001b[A\n 26%|██▋       | 1163264/4422102 [00:05<00:18, 179264.59it/s]\u001b[A\n 28%|██▊       | 1236992/4422102 [00:05<00:16, 187643.83it/s]\u001b[A\n 30%|███       | 1327104/4422102 [00:06<00:15, 206141.33it/s]\u001b[A\n 31%|███▏      | 1392640/4422102 [00:06<00:14, 208952.55it/s]\u001b[A\n 33%|███▎      | 1458176/4422102 [00:06<00:14, 210623.80it/s]\u001b[A\n 34%|███▍      | 1523712/4422102 [00:07<00:13, 209930.61it/s]\u001b[A\n 36%|███▌      | 1597440/4422102 [00:07<00:12, 219478.33it/s]\u001b[A\n 38%|███▊      | 1671168/4422102 [00:07<00:12, 225403.23it/s]\u001b[A\n 39%|███▉      | 1744896/4422102 [00:08<00:11, 239603.93it/s]\u001b[A\n 41%|████▏     | 1826816/4422102 [00:08<00:09, 259900.44it/s]\u001b[A\n 43%|████▎     | 1900544/4422102 [00:08<00:09, 272000.95it/s]\u001b[A\n 45%|████▍     | 1974272/4422102 [00:08<00:08, 272958.93it/s]\u001b[A\n 46%|████▋     | 2048000/4422102 [00:09<00:09, 241049.16it/s]\u001b[A\n 48%|████▊     | 2129920/4422102 [00:09<00:08, 267953.78it/s]\u001b[A\n 50%|████▉     | 2203648/4422102 [00:09<00:08, 258382.56it/s]\u001b[A\n 51%|█████▏    | 2277376/4422102 [00:10<00:08, 252854.91it/s]\u001b[A\n 53%|█████▎    | 2359296/4422102 [00:10<00:07, 275846.20it/s]\u001b[A\n 55%|█████▌    | 2433024/4422102 [00:10<00:07, 258253.37it/s]\u001b[A\n 57%|█████▋    | 2506752/4422102 [00:10<00:07, 265822.16it/s]\u001b[A\n 59%|█████▊    | 2588672/4422102 [00:11<00:07, 259458.01it/s]\u001b[A\n 60%|██████    | 2670592/4422102 [00:11<00:06, 284157.31it/s]\u001b[A\n 62%|██████▏   | 2752512/4422102 [00:11<00:05, 292005.97it/s]\u001b[A\n 64%|██████▍   | 2834432/4422102 [00:11<00:05, 305382.92it/s]\u001b[A\n 66%|██████▌   | 2924544/4422102 [00:12<00:04, 341480.52it/s]\u001b[A\n 67%|██████▋   | 2973696/4422102 [00:12<00:03, 364265.69it/s]\u001b[A\n 68%|██████▊   | 3014656/4422102 [00:12<00:05, 252073.88it/s]\u001b[A\n 70%|███████   | 3112960/4422102 [00:12<00:05, 256913.79it/s]\u001b[A\n 72%|███████▏  | 3170304/4422102 [00:12<00:04, 303328.30it/s]\u001b[A\n 73%|███████▎  | 3219456/4422102 [00:13<00:05, 226957.74it/s]\u001b[A\n 75%|███████▌  | 3325952/4422102 [00:13<00:04, 236285.24it/s]\u001b[A\n 78%|███████▊  | 3457024/4422102 [00:14<00:03, 269091.98it/s]\u001b[A\n 79%|███████▉  | 3489792/4422102 [00:14<00:06, 154634.43it/s]\u001b[A\n 82%|████████▏ | 3645440/4422102 [00:14<00:04, 188747.66it/s]\u001b[A\n 84%|████████▍ | 3735552/4422102 [00:15<00:03, 215215.80it/s]\u001b[A\n 87%|████████▋ | 3833856/4422102 [00:15<00:02, 238133.20it/s]\u001b[A\n 89%|████████▉ | 3940352/4422102 [00:15<00:01, 257873.31it/s]\u001b[A\n 92%|█████████▏| 4046848/4422102 [00:16<00:01, 286298.03it/s]\u001b[A\n 94%|█████████▍| 4153344/4422102 [00:16<00:00, 365023.11it/s]\u001b[A\n 95%|█████████▌| 4210688/4422102 [00:16<00:00, 326790.01it/s]\u001b[A\n26427392it [03:10, 200768.13it/s]\n100%|█████████▉| 4407296/4422102 [00:16<00:00, 435541.22it/s]\u001b[A\n\n0it [00:00, ?it/s]\u001b[A\u001b[AExtracting ./data/FashionMNIST/FashionMNIST/raw/t10k-images-idx3-ubyte.gz to ./data/FashionMNIST/FashionMNIST/raw\nDownloading http://fashion-mnist.s3-website.eu-central-1.amazonaws.com/t10k-labels-idx1-ubyte.gz to ./data/FashionMNIST/FashionMNIST/raw/t10k-labels-idx1-ubyte.gz\n\n\n8192it [00:00, 9175.44it/s]\nExtracting ./data/FashionMNIST/FashionMNIST/raw/t10k-labels-idx1-ubyte.gz to ./data/FashionMNIST/FashionMNIST/raw\nProcessing...\nDone!\n"
    }
   ],
   "source": [
    "train_set = torchvision.datasets.FashionMNIST(\n",
    "    root=\"./data/FashionMNIST\",\n",
    "    train=True,\n",
    "    download=True,\n",
    "    transform=transforms.Compose([\n",
    "        transforms.ToTensor()\n",
    "    ]))\n",
    "train_loader = torch.utils.data.DataLoader(train_set, batch_size=10)"
   ]
  },
  {
   "cell_type": "code",
   "execution_count": 6,
   "metadata": {},
   "outputs": [],
   "source": [
    "test_set = torchvision.datasets.FashionMNIST(\n",
    "    root=\"./data/FashionMNIST\",\n",
    "    train=False,\n",
    "    download=True,\n",
    "    transform=transforms.Compose([\n",
    "        transforms.ToTensor()\n",
    "    ]))\n",
    "test_loader = torch.utils.data.DataLoader(test_set, batch_size=10)"
   ]
  },
  {
   "cell_type": "code",
   "execution_count": 8,
   "metadata": {},
   "outputs": [],
   "source": [
    "import numpy as np\n",
    "import matplotlib.pyplot as plt\n",
    "\n",
    "torch.set_printoptions(linewidth=120)"
   ]
  },
  {
   "cell_type": "code",
   "execution_count": 9,
   "metadata": {},
   "outputs": [
    {
     "output_type": "execute_result",
     "data": {
      "text/plain": "60000"
     },
     "metadata": {},
     "execution_count": 9
    }
   ],
   "source": [
    "len(train_set)"
   ]
  },
  {
   "cell_type": "code",
   "execution_count": 10,
   "metadata": {},
   "outputs": [
    {
     "output_type": "execute_result",
     "data": {
      "text/plain": "10000"
     },
     "metadata": {},
     "execution_count": 10
    }
   ],
   "source": [
    "len(test_set)"
   ]
  },
  {
   "cell_type": "code",
   "execution_count": 11,
   "metadata": {},
   "outputs": [
    {
     "output_type": "execute_result",
     "data": {
      "text/plain": "tensor([9, 0, 0,  ..., 3, 0, 5])"
     },
     "metadata": {},
     "execution_count": 11
    }
   ],
   "source": [
    "train_set.train_labels"
   ]
  },
  {
   "cell_type": "code",
   "execution_count": 13,
   "metadata": {},
   "outputs": [
    {
     "output_type": "execute_result",
     "data": {
      "text/plain": "tensor([9, 2, 1,  ..., 8, 1, 5])"
     },
     "metadata": {},
     "execution_count": 13
    }
   ],
   "source": [
    "test_set.test_labels"
   ]
  },
  {
   "cell_type": "code",
   "execution_count": 15,
   "metadata": {},
   "outputs": [
    {
     "output_type": "execute_result",
     "data": {
      "text/plain": "tensor([6000, 6000, 6000, 6000, 6000, 6000, 6000, 6000, 6000, 6000])"
     },
     "metadata": {},
     "execution_count": 15
    }
   ],
   "source": [
    "train_set.train_labels.bincount()  # every class has 6000 image in training set"
   ]
  },
  {
   "cell_type": "code",
   "execution_count": 16,
   "metadata": {},
   "outputs": [
    {
     "output_type": "execute_result",
     "data": {
      "text/plain": "tensor([1000, 1000, 1000, 1000, 1000, 1000, 1000, 1000, 1000, 1000])"
     },
     "metadata": {},
     "execution_count": 16
    }
   ],
   "source": [
    "test_set.test_labels.bincount()"
   ]
  },
  {
   "cell_type": "markdown",
   "metadata": {},
   "source": [
    "`Class imbalance is a common problem, but in our case , we just seen that the fashion mnist dataset is indeed balanced.`"
   ]
  },
  {
   "cell_type": "code",
   "execution_count": 17,
   "metadata": {},
   "outputs": [],
   "source": [
    "sample = next(iter(train_set))"
   ]
  },
  {
   "cell_type": "code",
   "execution_count": 18,
   "metadata": {},
   "outputs": [
    {
     "output_type": "execute_result",
     "data": {
      "text/plain": "2"
     },
     "metadata": {},
     "execution_count": 18
    }
   ],
   "source": [
    "len(sample)"
   ]
  },
  {
   "cell_type": "code",
   "execution_count": 19,
   "metadata": {},
   "outputs": [
    {
     "output_type": "execute_result",
     "data": {
      "text/plain": "tuple"
     },
     "metadata": {},
     "execution_count": 19
    }
   ],
   "source": [
    "type(sample)"
   ]
  },
  {
   "cell_type": "code",
   "execution_count": 20,
   "metadata": {},
   "outputs": [],
   "source": [
    "image, label = sample"
   ]
  },
  {
   "cell_type": "code",
   "execution_count": 21,
   "metadata": {},
   "outputs": [
    {
     "output_type": "execute_result",
     "data": {
      "text/plain": "torch.Size([1, 28, 28])"
     },
     "metadata": {},
     "execution_count": 21
    }
   ],
   "source": [
    "image.shape"
   ]
  },
  {
   "cell_type": "code",
   "execution_count": 24,
   "metadata": {
    "tags": []
   },
   "outputs": [
    {
     "output_type": "stream",
     "name": "stdout",
     "text": "Label: 9\n"
    },
    {
     "output_type": "display_data",
     "data": {
      "text/plain": "<Figure size 432x288 with 1 Axes>",
      "image/svg+xml": "<?xml version=\"1.0\" encoding=\"utf-8\" standalone=\"no\"?>\n<!DOCTYPE svg PUBLIC \"-//W3C//DTD SVG 1.1//EN\"\n  \"http://www.w3.org/Graphics/SVG/1.1/DTD/svg11.dtd\">\n<!-- Created with matplotlib (https://matplotlib.org/) -->\n<svg height=\"248.518125pt\" version=\"1.1\" viewBox=\"0 0 251.565 248.518125\" width=\"251.565pt\" xmlns=\"http://www.w3.org/2000/svg\" xmlns:xlink=\"http://www.w3.org/1999/xlink\">\n <defs>\n  <style type=\"text/css\">\n*{stroke-linecap:butt;stroke-linejoin:round;}\n  </style>\n </defs>\n <g id=\"figure_1\">\n  <g id=\"patch_1\">\n   <path d=\"M 0 248.518125 \nL 251.565 248.518125 \nL 251.565 0 \nL 0 0 \nz\n\" style=\"fill:none;\"/>\n  </g>\n  <g id=\"axes_1\">\n   <g id=\"patch_2\">\n    <path d=\"M 26.925 224.64 \nL 244.365 224.64 \nL 244.365 7.2 \nL 26.925 7.2 \nz\n\" style=\"fill:#ffffff;\"/>\n   </g>\n   <g clip-path=\"url(#pdc46df3dec)\">\n    <image height=\"218\" id=\"image4eab13de3c\" transform=\"scale(1 -1)translate(0 -218)\" width=\"218\" x=\"26.925\" xlink:href=\"data:image/png;base64,\niVBORw0KGgoAAAANSUhEUgAAANoAAADaCAYAAADAHVzbAAAABHNCSVQICAgIfAhkiAAACaRJREFUeJzt3duLzu0fxfFrzBiMwWBsxiZMESWRaELKAdmU7HJsU8q5E6ccqDl3xJ/gTJIUZzPFhEyZkrHJJsPIdsae31/wXevp+TbL8zy/9+t0uW73zD2rb92frutqKKX8LgDG1Lg//QaA/wcUDQigaEAARQMCKBoQQNGAAIoGBFA0IICiAQEUDQigaEAARQMCKBoQQNGAAIoGBDT96TcwVpYvXy7z9vZ2mb97907mCxYskPnjx48rs+/fv8u1g4ODMse/D080IICiAQEUDQigaEAARQMCKBoQ0DRunO7ar1+/xuw/37Jli8zPnDkj89mzZ1dm06ZNk2vdz93Y2CjzpiY9Gfn586fMlVevXsn89299QuDz589lrj7TT58+ybXu9+Ko9+7GHqOjozJ3n+nVq1dlPjAwUJn19PTItQ5PNCCAogEBFA0IoGhAAEUDAigaEEDRgICGUvPaph07dlRmJ06ckGvVHKyUUoaHh2WutrK4OZabBzU3N8vczdHU6zc0NMi1bk42fvz4Wrn62dxa994dtX5oaKjWa7vPzM2E586dW5ndvXtXrj148KDMeaIBARQNCKBoQABFAwIoGhBA0YAAigYE2DnayZMn5QscOXKkMnvx4oVc++HDB5l/+fJF5q2trX8rK6WUSZMmydzNZNwc7tu3b5WZm8G5OZrbl+X2danXd/NH995//Pgh8wkTJlRm6ndWij8C0M1dJ0+eLPOWlpbKbMmSJXJtd3e3zHmiAQEUDQigaEAARQMCKBoQQNGAAIoGBDStXr1a/oN9+/bJ/MGDB5WZm1t0dnbK3M1N1BmEdWZJ7rVL0TOXUvQcz+35cucTuv+7ra1N5iMjI5XZ58+f5dq3b9/K3H3matblPjO3F8793G52qvajufngnDlzZM4TDQigaEAARQMCKBoQQNGAAIoGBFA0IKBp/vz58h+42cWCBQsqs69fv8q1bv+Q21M2derUv5WV4udFT548kbmbham9dG4+6O52c59Zf3+/zBcvXlyZLVy4UK518yL3s6nP1P29uHMZp0yZUmu9+lt3M7g7d+7InCcaEEDRgACKBgRQNCCAogEBFA0IaHJXJ7mvewcHBysz9/X8jBkzZK6OJnPc1+9qS0Qp/lg1d5Se+jrYbSVx723Pnj0ynzhxoszV1/vuM1u7dm2tXB3T537nbvuQG0W5IwLVeret6v79+zLniQYEUDQggKIBARQNCKBoQABFAwIoGhDQ0NjYKAcEvb298gU6OjoqM3cFkMvd9USKm5m4bTJ1qa0u7e3tcu2hQ4dkvm3bNpkfP35c5moG6K7KevTokcwfPnwo86VLl1ZmM2fOlGvdtU5uduq20aj1bovNokWLZM4TDQigaEAARQMCKBoQQNGAAIoGBFA0IKChlCLnaF1dXfIFTp8+XZnNmjVLrnXX7Lg5m5qVuWPP3DU87mokN9NRe5vcDG9gYEDmBw8elHlfX5/M1Txp+vTpcq3ay/ZXqDmbm3N9/PhR5m7u6o6MU3vx3PGF7u+FJxoQQNGAAIoGBFA0IICiAQEUDQigaECAnaONJXeu47x582Su9ja5tfv27ZP5smXLZO6uGFJnEH7//l2udfMed6ak25fV3NxcmdXdE+bmST09PZWZO1Ny8+bNMnd7xt6/fy9z9XsbGhqSa1esWCFznmhAAEUDAigaEEDRgACKBgRQNCDAfr3vjm1zW1n+rdxXyfv375f5xo0bK7M5c+bItcPDwzJXX8+X4q9tUp+Z22ri/h7cVVvqvburkdzWJpe7sYkabVy4cEGuPXz4sMx5ogEBFA0IoGhAAEUDAigaEEDRgACKBgTU3iajjlVzMxe1lcS9dil6u4nbMvEnvXnzRuYjIyMyd8fVuTmbmlfVOeLPvXYp+jOrM4MrpZQPHz7I3L13te1q9+7dcu3FixdlzhMNCKBoQABFAwIoGhBA0YAAigYEUDQgoKnuC6i5idsf9E/W1KR/NXV+tp07d8r80qVLMnfzxTp7CN0RgF++fJG5mxG6o/DqrHVzWTfju3v3bmU2bdo0udbhiQYEUDQggKIBARQNCKBoQABFAwIoGhBQe472X+XmZG5vlLreaOXKlXKt25fl9l25K6XUXr2XL1/Kte7KKXdmpfq9uNd2czA3P+zo6JD5qVOnKrNdu3bJtQ8ePJA5TzQggKIBARQNCKBoQABFAwIoGhBA0YCA2uc6/le5PV9u75Pa89Xa2irX3r59W+buvblzH9Wc7sWLF3Lt0NCQzDds2CBztV+tpaVFrnWzy48fP8rc7Sl7+vRpZeY+s6NHj8qcJxoQQNGAAIoGBFA0IICiAQEUDQhgm0wFtyXDXW+kfPr0SebuK/bOzk6Zuyur1HYU9xW6+wr+3bt3MldjEbe9x22jcV/Bqy06pZSyatWqymxgYECu7evrkzlPNCCAogEBFA0IoGhAAEUDAigaEEDRgADmaP9Ao6OjMndzMperWdjUqVPl2qVLl8rcXeuk5o/ufdfZmlSKP45Ovb7aQvNX8EQDAigaEEDRgACKBgRQNCCAogEBFA0IYI5WwR3pVofb6zZ9+nSZu2udXK5+NnddldtL56g5m5uj3bp1S+bu6iT3s23fvr0y6+rqkmsdnmhAAEUDAigaEEDRgACKBgRQNCCAogEBXNs0RtSsys3Rtm7dKvPu7m6Zt7W1yVydj+hmWc7NmzdlrmZd7txFp6OjQ+buXEj13g8cOCDXnj17VuY80YAAigYEUDQggKIBARQNCKBoQABFAwKYo/0LnTt3TuZ79+6VuTqj0J1feOXKFZmvWbNG5uPHj6/M3B1j/f39Mnd3mK1fv17m69atq8x6enrk2t7eXpnzRAMCKBoQQNGAAIoGBFA0IICiAQF8vf8HNDc3y9xtFzl27Fit/NmzZ5XZvXv35Fp15VMppbx+/Vrm58+fr8yGhobk2rHW2tpambntQ+6qLZ5oQABFAwIoGhBA0YAAigYEUDQggKIBAVzb9Af8/Pmz1vpr167JvLOzU+afP3+uzK5fvy7XqmuXSinlxo0bMq/DXaU1bpx+brj1da6kamxslDlPNCCAogEBFA0IoGhAAEUDAigaEEDRgAD2o/0Bbp7jrnVypkyZIvNNmzZVZpcvX671f7ufTc2bfvz4Uev/rsu9d8V9ZjzRgACKBgRQNCCAogEBFA0IoGhAAEUDApijAQE80YAAigYEUDQggKIBARQNCKBoQABFAwIoGhBA0YAAigYEUDQggKIBARQNCKBoQABFAwIoGhBA0YAAigYEUDQggKIBARQNCKBoQMD/AInokWcf/21IAAAAAElFTkSuQmCC\" y=\"-6.64\"/>\n   </g>\n   <g id=\"matplotlib.axis_1\">\n    <g id=\"xtick_1\">\n     <g id=\"line2d_1\">\n      <defs>\n       <path d=\"M 0 0 \nL 0 3.5 \n\" id=\"mda39816fc6\" style=\"stroke:#000000;stroke-width:0.8;\"/>\n      </defs>\n      <g>\n       <use style=\"stroke:#000000;stroke-width:0.8;\" x=\"30.807857\" xlink:href=\"#mda39816fc6\" y=\"224.64\"/>\n      </g>\n     </g>\n     <g id=\"text_1\">\n      <!-- 0 -->\n      <defs>\n       <path d=\"M 31.78125 66.40625 \nQ 24.171875 66.40625 20.328125 58.90625 \nQ 16.5 51.421875 16.5 36.375 \nQ 16.5 21.390625 20.328125 13.890625 \nQ 24.171875 6.390625 31.78125 6.390625 \nQ 39.453125 6.390625 43.28125 13.890625 \nQ 47.125 21.390625 47.125 36.375 \nQ 47.125 51.421875 43.28125 58.90625 \nQ 39.453125 66.40625 31.78125 66.40625 \nz\nM 31.78125 74.21875 \nQ 44.046875 74.21875 50.515625 64.515625 \nQ 56.984375 54.828125 56.984375 36.375 \nQ 56.984375 17.96875 50.515625 8.265625 \nQ 44.046875 -1.421875 31.78125 -1.421875 \nQ 19.53125 -1.421875 13.0625 8.265625 \nQ 6.59375 17.96875 6.59375 36.375 \nQ 6.59375 54.828125 13.0625 64.515625 \nQ 19.53125 74.21875 31.78125 74.21875 \nz\n\" id=\"DejaVuSans-48\"/>\n      </defs>\n      <g transform=\"translate(27.626607 239.238437)scale(0.1 -0.1)\">\n       <use xlink:href=\"#DejaVuSans-48\"/>\n      </g>\n     </g>\n    </g>\n    <g id=\"xtick_2\">\n     <g id=\"line2d_2\">\n      <g>\n       <use style=\"stroke:#000000;stroke-width:0.8;\" x=\"69.636429\" xlink:href=\"#mda39816fc6\" y=\"224.64\"/>\n      </g>\n     </g>\n     <g id=\"text_2\">\n      <!-- 5 -->\n      <defs>\n       <path d=\"M 10.796875 72.90625 \nL 49.515625 72.90625 \nL 49.515625 64.59375 \nL 19.828125 64.59375 \nL 19.828125 46.734375 \nQ 21.96875 47.46875 24.109375 47.828125 \nQ 26.265625 48.1875 28.421875 48.1875 \nQ 40.625 48.1875 47.75 41.5 \nQ 54.890625 34.8125 54.890625 23.390625 \nQ 54.890625 11.625 47.5625 5.09375 \nQ 40.234375 -1.421875 26.90625 -1.421875 \nQ 22.3125 -1.421875 17.546875 -0.640625 \nQ 12.796875 0.140625 7.71875 1.703125 \nL 7.71875 11.625 \nQ 12.109375 9.234375 16.796875 8.0625 \nQ 21.484375 6.890625 26.703125 6.890625 \nQ 35.15625 6.890625 40.078125 11.328125 \nQ 45.015625 15.765625 45.015625 23.390625 \nQ 45.015625 31 40.078125 35.4375 \nQ 35.15625 39.890625 26.703125 39.890625 \nQ 22.75 39.890625 18.8125 39.015625 \nQ 14.890625 38.140625 10.796875 36.28125 \nz\n\" id=\"DejaVuSans-53\"/>\n      </defs>\n      <g transform=\"translate(66.455179 239.238437)scale(0.1 -0.1)\">\n       <use xlink:href=\"#DejaVuSans-53\"/>\n      </g>\n     </g>\n    </g>\n    <g id=\"xtick_3\">\n     <g id=\"line2d_3\">\n      <g>\n       <use style=\"stroke:#000000;stroke-width:0.8;\" x=\"108.465\" xlink:href=\"#mda39816fc6\" y=\"224.64\"/>\n      </g>\n     </g>\n     <g id=\"text_3\">\n      <!-- 10 -->\n      <defs>\n       <path d=\"M 12.40625 8.296875 \nL 28.515625 8.296875 \nL 28.515625 63.921875 \nL 10.984375 60.40625 \nL 10.984375 69.390625 \nL 28.421875 72.90625 \nL 38.28125 72.90625 \nL 38.28125 8.296875 \nL 54.390625 8.296875 \nL 54.390625 0 \nL 12.40625 0 \nz\n\" id=\"DejaVuSans-49\"/>\n      </defs>\n      <g transform=\"translate(102.1025 239.238437)scale(0.1 -0.1)\">\n       <use xlink:href=\"#DejaVuSans-49\"/>\n       <use x=\"63.623047\" xlink:href=\"#DejaVuSans-48\"/>\n      </g>\n     </g>\n    </g>\n    <g id=\"xtick_4\">\n     <g id=\"line2d_4\">\n      <g>\n       <use style=\"stroke:#000000;stroke-width:0.8;\" x=\"147.293571\" xlink:href=\"#mda39816fc6\" y=\"224.64\"/>\n      </g>\n     </g>\n     <g id=\"text_4\">\n      <!-- 15 -->\n      <g transform=\"translate(140.931071 239.238437)scale(0.1 -0.1)\">\n       <use xlink:href=\"#DejaVuSans-49\"/>\n       <use x=\"63.623047\" xlink:href=\"#DejaVuSans-53\"/>\n      </g>\n     </g>\n    </g>\n    <g id=\"xtick_5\">\n     <g id=\"line2d_5\">\n      <g>\n       <use style=\"stroke:#000000;stroke-width:0.8;\" x=\"186.122143\" xlink:href=\"#mda39816fc6\" y=\"224.64\"/>\n      </g>\n     </g>\n     <g id=\"text_5\">\n      <!-- 20 -->\n      <defs>\n       <path d=\"M 19.1875 8.296875 \nL 53.609375 8.296875 \nL 53.609375 0 \nL 7.328125 0 \nL 7.328125 8.296875 \nQ 12.9375 14.109375 22.625 23.890625 \nQ 32.328125 33.6875 34.8125 36.53125 \nQ 39.546875 41.84375 41.421875 45.53125 \nQ 43.3125 49.21875 43.3125 52.78125 \nQ 43.3125 58.59375 39.234375 62.25 \nQ 35.15625 65.921875 28.609375 65.921875 \nQ 23.96875 65.921875 18.8125 64.3125 \nQ 13.671875 62.703125 7.8125 59.421875 \nL 7.8125 69.390625 \nQ 13.765625 71.78125 18.9375 73 \nQ 24.125 74.21875 28.421875 74.21875 \nQ 39.75 74.21875 46.484375 68.546875 \nQ 53.21875 62.890625 53.21875 53.421875 \nQ 53.21875 48.921875 51.53125 44.890625 \nQ 49.859375 40.875 45.40625 35.40625 \nQ 44.1875 33.984375 37.640625 27.21875 \nQ 31.109375 20.453125 19.1875 8.296875 \nz\n\" id=\"DejaVuSans-50\"/>\n      </defs>\n      <g transform=\"translate(179.759643 239.238437)scale(0.1 -0.1)\">\n       <use xlink:href=\"#DejaVuSans-50\"/>\n       <use x=\"63.623047\" xlink:href=\"#DejaVuSans-48\"/>\n      </g>\n     </g>\n    </g>\n    <g id=\"xtick_6\">\n     <g id=\"line2d_6\">\n      <g>\n       <use style=\"stroke:#000000;stroke-width:0.8;\" x=\"224.950714\" xlink:href=\"#mda39816fc6\" y=\"224.64\"/>\n      </g>\n     </g>\n     <g id=\"text_6\">\n      <!-- 25 -->\n      <g transform=\"translate(218.588214 239.238437)scale(0.1 -0.1)\">\n       <use xlink:href=\"#DejaVuSans-50\"/>\n       <use x=\"63.623047\" xlink:href=\"#DejaVuSans-53\"/>\n      </g>\n     </g>\n    </g>\n   </g>\n   <g id=\"matplotlib.axis_2\">\n    <g id=\"ytick_1\">\n     <g id=\"line2d_7\">\n      <defs>\n       <path d=\"M 0 0 \nL -3.5 0 \n\" id=\"mfe5f46f706\" style=\"stroke:#000000;stroke-width:0.8;\"/>\n      </defs>\n      <g>\n       <use style=\"stroke:#000000;stroke-width:0.8;\" x=\"26.925\" xlink:href=\"#mfe5f46f706\" y=\"11.082857\"/>\n      </g>\n     </g>\n     <g id=\"text_7\">\n      <!-- 0 -->\n      <g transform=\"translate(13.5625 14.882076)scale(0.1 -0.1)\">\n       <use xlink:href=\"#DejaVuSans-48\"/>\n      </g>\n     </g>\n    </g>\n    <g id=\"ytick_2\">\n     <g id=\"line2d_8\">\n      <g>\n       <use style=\"stroke:#000000;stroke-width:0.8;\" x=\"26.925\" xlink:href=\"#mfe5f46f706\" y=\"49.911429\"/>\n      </g>\n     </g>\n     <g id=\"text_8\">\n      <!-- 5 -->\n      <g transform=\"translate(13.5625 53.710647)scale(0.1 -0.1)\">\n       <use xlink:href=\"#DejaVuSans-53\"/>\n      </g>\n     </g>\n    </g>\n    <g id=\"ytick_3\">\n     <g id=\"line2d_9\">\n      <g>\n       <use style=\"stroke:#000000;stroke-width:0.8;\" x=\"26.925\" xlink:href=\"#mfe5f46f706\" y=\"88.74\"/>\n      </g>\n     </g>\n     <g id=\"text_9\">\n      <!-- 10 -->\n      <g transform=\"translate(7.2 92.539219)scale(0.1 -0.1)\">\n       <use xlink:href=\"#DejaVuSans-49\"/>\n       <use x=\"63.623047\" xlink:href=\"#DejaVuSans-48\"/>\n      </g>\n     </g>\n    </g>\n    <g id=\"ytick_4\">\n     <g id=\"line2d_10\">\n      <g>\n       <use style=\"stroke:#000000;stroke-width:0.8;\" x=\"26.925\" xlink:href=\"#mfe5f46f706\" y=\"127.568571\"/>\n      </g>\n     </g>\n     <g id=\"text_10\">\n      <!-- 15 -->\n      <g transform=\"translate(7.2 131.36779)scale(0.1 -0.1)\">\n       <use xlink:href=\"#DejaVuSans-49\"/>\n       <use x=\"63.623047\" xlink:href=\"#DejaVuSans-53\"/>\n      </g>\n     </g>\n    </g>\n    <g id=\"ytick_5\">\n     <g id=\"line2d_11\">\n      <g>\n       <use style=\"stroke:#000000;stroke-width:0.8;\" x=\"26.925\" xlink:href=\"#mfe5f46f706\" y=\"166.397143\"/>\n      </g>\n     </g>\n     <g id=\"text_11\">\n      <!-- 20 -->\n      <g transform=\"translate(7.2 170.196362)scale(0.1 -0.1)\">\n       <use xlink:href=\"#DejaVuSans-50\"/>\n       <use x=\"63.623047\" xlink:href=\"#DejaVuSans-48\"/>\n      </g>\n     </g>\n    </g>\n    <g id=\"ytick_6\">\n     <g id=\"line2d_12\">\n      <g>\n       <use style=\"stroke:#000000;stroke-width:0.8;\" x=\"26.925\" xlink:href=\"#mfe5f46f706\" y=\"205.225714\"/>\n      </g>\n     </g>\n     <g id=\"text_12\">\n      <!-- 25 -->\n      <g transform=\"translate(7.2 209.024933)scale(0.1 -0.1)\">\n       <use xlink:href=\"#DejaVuSans-50\"/>\n       <use x=\"63.623047\" xlink:href=\"#DejaVuSans-53\"/>\n      </g>\n     </g>\n    </g>\n   </g>\n   <g id=\"patch_3\">\n    <path d=\"M 26.925 224.64 \nL 26.925 7.2 \n\" style=\"fill:none;stroke:#000000;stroke-linecap:square;stroke-linejoin:miter;stroke-width:0.8;\"/>\n   </g>\n   <g id=\"patch_4\">\n    <path d=\"M 244.365 224.64 \nL 244.365 7.2 \n\" style=\"fill:none;stroke:#000000;stroke-linecap:square;stroke-linejoin:miter;stroke-width:0.8;\"/>\n   </g>\n   <g id=\"patch_5\">\n    <path d=\"M 26.925 224.64 \nL 244.365 224.64 \n\" style=\"fill:none;stroke:#000000;stroke-linecap:square;stroke-linejoin:miter;stroke-width:0.8;\"/>\n   </g>\n   <g id=\"patch_6\">\n    <path d=\"M 26.925 7.2 \nL 244.365 7.2 \n\" style=\"fill:none;stroke:#000000;stroke-linecap:square;stroke-linejoin:miter;stroke-width:0.8;\"/>\n   </g>\n  </g>\n </g>\n <defs>\n  <clipPath id=\"pdc46df3dec\">\n   <rect height=\"217.44\" width=\"217.44\" x=\"26.925\" y=\"7.2\"/>\n  </clipPath>\n </defs>\n</svg>\n",
      "image/png": "[encoded data removed]"
     },
     "metadata": {
      "needs_background": "light"
     }
    }
   ],
   "source": [
    "plt.imshow(image.squeeze(), cmap='gray')\n",
    "print('Label:', label)"
   ]
  },
  {
   "cell_type": "code",
   "execution_count": 25,
   "metadata": {},
   "outputs": [
    {
     "output_type": "execute_result",
     "data": {
      "text/plain": "torch.Size([28, 28])"
     },
     "metadata": {},
     "execution_count": 25
    }
   ],
   "source": []
  },
  {
   "cell_type": "code",
   "execution_count": 26,
   "metadata": {},
   "outputs": [],
   "source": [
    "batch = next(iter(train_loader))"
   ]
  },
  {
   "cell_type": "code",
   "execution_count": 27,
   "metadata": {},
   "outputs": [
    {
     "output_type": "execute_result",
     "data": {
      "text/plain": "2"
     },
     "metadata": {},
     "execution_count": 27
    }
   ],
   "source": [
    "len(batch)"
   ]
  },
  {
   "cell_type": "code",
   "execution_count": 28,
   "metadata": {},
   "outputs": [
    {
     "output_type": "execute_result",
     "data": {
      "text/plain": "list"
     },
     "metadata": {},
     "execution_count": 28
    }
   ],
   "source": [
    "type(batch)"
   ]
  },
  {
   "cell_type": "code",
   "execution_count": 29,
   "metadata": {},
   "outputs": [],
   "source": [
    "images, labels = batch"
   ]
  },
  {
   "cell_type": "code",
   "execution_count": 30,
   "metadata": {},
   "outputs": [
    {
     "output_type": "execute_result",
     "data": {
      "text/plain": "torch.Size([10, 1, 28, 28])"
     },
     "metadata": {},
     "execution_count": 30
    }
   ],
   "source": [
    "images.shape"
   ]
  },
  {
   "cell_type": "code",
   "execution_count": 31,
   "metadata": {},
   "outputs": [
    {
     "output_type": "execute_result",
     "data": {
      "text/plain": "torch.Size([10])"
     },
     "metadata": {},
     "execution_count": 31
    }
   ],
   "source": [
    "labels.shape"
   ]
  },
  {
   "cell_type": "code",
   "execution_count": 36,
   "metadata": {
    "tags": []
   },
   "outputs": [
    {
     "output_type": "stream",
     "name": "stdout",
     "text": "<list_iterator object at 0x7f090d8a6670>\n"
    },
    {
     "output_type": "execute_result",
     "data": {
      "text/plain": "2"
     },
     "metadata": {},
     "execution_count": 36
    }
   ],
   "source": [
    "l = [1, 2, 3, 4]\n",
    "it = iter(l)\n",
    "print(it)\n",
    "next(it)\n",
    "next(it)"
   ]
  },
  {
   "cell_type": "code",
   "execution_count": 37,
   "metadata": {
    "tags": []
   },
   "outputs": [
    {
     "output_type": "stream",
     "name": "stdout",
     "text": "Labels:  tensor([9, 0, 0, 3, 0, 2, 7, 2, 5, 5])\n"
    },
    {
     "output_type": "display_data",
     "data": {
      "text/plain": "<Figure size 1080x1080 with 1 Axes>",
      "image/svg+xml": "<?xml version=\"1.0\" encoding=\"utf-8\" standalone=\"no\"?>\n<!DOCTYPE svg PUBLIC \"-//W3C//DTD SVG 1.1//EN\"\n  \"http://www.w3.org/Graphics/SVG/1.1/DTD/svg11.dtd\">\n<!-- Created with matplotlib (https://matplotlib.org/) -->\n<svg height=\"122.180324pt\" version=\"1.1\" viewBox=\"0 0 876.511465 122.180324\" width=\"876.511465pt\" xmlns=\"http://www.w3.org/2000/svg\" xmlns:xlink=\"http://www.w3.org/1999/xlink\">\n <defs>\n  <style type=\"text/css\">\n*{stroke-linecap:butt;stroke-linejoin:round;}\n  </style>\n </defs>\n <g id=\"figure_1\">\n  <g id=\"patch_1\">\n   <path d=\"M 0 122.180324 \nL 876.511465 122.180324 \nL 876.511465 -0 \nL 0 -0 \nz\n\" style=\"fill:none;\"/>\n  </g>\n  <g id=\"axes_1\">\n   <g id=\"patch_2\">\n    <path d=\"M 26.925 98.302199 \nL 863.925 98.302199 \nL 863.925 9.613457 \nL 26.925 9.613457 \nz\n\" style=\"fill:#ffffff;\"/>\n   </g>\n   <g clip-path=\"url(#p34885cb123)\">\n    <image height=\"89\" id=\"imageabff5643cc\" transform=\"scale(1 -1)translate(0 -89)\" width=\"837\" x=\"26.925\" xlink:href=\"data:image/png;base64,\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\" y=\"-9.302199\"/>\n   </g>\n   <g id=\"matplotlib.axis_1\">\n    <g id=\"xtick_1\">\n     <g id=\"line2d_1\">\n      <defs>\n       <path d=\"M 0 0 \nL 0 3.5 \n\" id=\"m58798a4bd7\" style=\"stroke:#000000;stroke-width:0.8;\"/>\n      </defs>\n      <g>\n       <use style=\"stroke:#000000;stroke-width:0.8;\" x=\"28.310762\" xlink:href=\"#m58798a4bd7\" y=\"98.302199\"/>\n      </g>\n     </g>\n     <g id=\"text_1\">\n      <!-- 0 -->\n      <defs>\n       <path d=\"M 31.78125 66.40625 \nQ 24.171875 66.40625 20.328125 58.90625 \nQ 16.5 51.421875 16.5 36.375 \nQ 16.5 21.390625 20.328125 13.890625 \nQ 24.171875 6.390625 31.78125 6.390625 \nQ 39.453125 6.390625 43.28125 13.890625 \nQ 47.125 21.390625 47.125 36.375 \nQ 47.125 51.421875 43.28125 58.90625 \nQ 39.453125 66.40625 31.78125 66.40625 \nz\nM 31.78125 74.21875 \nQ 44.046875 74.21875 50.515625 64.515625 \nQ 56.984375 54.828125 56.984375 36.375 \nQ 56.984375 17.96875 50.515625 8.265625 \nQ 44.046875 -1.421875 31.78125 -1.421875 \nQ 19.53125 -1.421875 13.0625 8.265625 \nQ 6.59375 17.96875 6.59375 36.375 \nQ 6.59375 54.828125 13.0625 64.515625 \nQ 19.53125 74.21875 31.78125 74.21875 \nz\n\" id=\"DejaVuSans-48\"/>\n      </defs>\n      <g transform=\"translate(25.129512 112.900636)scale(0.1 -0.1)\">\n       <use xlink:href=\"#DejaVuSans-48\"/>\n      </g>\n     </g>\n    </g>\n    <g id=\"xtick_2\">\n     <g id=\"line2d_2\">\n      <g>\n       <use style=\"stroke:#000000;stroke-width:0.8;\" x=\"166.886921\" xlink:href=\"#m58798a4bd7\" y=\"98.302199\"/>\n      </g>\n     </g>\n     <g id=\"text_2\">\n      <!-- 50 -->\n      <defs>\n       <path d=\"M 10.796875 72.90625 \nL 49.515625 72.90625 \nL 49.515625 64.59375 \nL 19.828125 64.59375 \nL 19.828125 46.734375 \nQ 21.96875 47.46875 24.109375 47.828125 \nQ 26.265625 48.1875 28.421875 48.1875 \nQ 40.625 48.1875 47.75 41.5 \nQ 54.890625 34.8125 54.890625 23.390625 \nQ 54.890625 11.625 47.5625 5.09375 \nQ 40.234375 -1.421875 26.90625 -1.421875 \nQ 22.3125 -1.421875 17.546875 -0.640625 \nQ 12.796875 0.140625 7.71875 1.703125 \nL 7.71875 11.625 \nQ 12.109375 9.234375 16.796875 8.0625 \nQ 21.484375 6.890625 26.703125 6.890625 \nQ 35.15625 6.890625 40.078125 11.328125 \nQ 45.015625 15.765625 45.015625 23.390625 \nQ 45.015625 31 40.078125 35.4375 \nQ 35.15625 39.890625 26.703125 39.890625 \nQ 22.75 39.890625 18.8125 39.015625 \nQ 14.890625 38.140625 10.796875 36.28125 \nz\n\" id=\"DejaVuSans-53\"/>\n      </defs>\n      <g transform=\"translate(160.524421 112.900636)scale(0.1 -0.1)\">\n       <use xlink:href=\"#DejaVuSans-53\"/>\n       <use x=\"63.623047\" xlink:href=\"#DejaVuSans-48\"/>\n      </g>\n     </g>\n    </g>\n    <g id=\"xtick_3\">\n     <g id=\"line2d_3\">\n      <g>\n       <use style=\"stroke:#000000;stroke-width:0.8;\" x=\"305.463079\" xlink:href=\"#m58798a4bd7\" y=\"98.302199\"/>\n      </g>\n     </g>\n     <g id=\"text_3\">\n      <!-- 100 -->\n      <defs>\n       <path d=\"M 12.40625 8.296875 \nL 28.515625 8.296875 \nL 28.515625 63.921875 \nL 10.984375 60.40625 \nL 10.984375 69.390625 \nL 28.421875 72.90625 \nL 38.28125 72.90625 \nL 38.28125 8.296875 \nL 54.390625 8.296875 \nL 54.390625 0 \nL 12.40625 0 \nz\n\" id=\"DejaVuSans-49\"/>\n      </defs>\n      <g transform=\"translate(295.919329 112.900636)scale(0.1 -0.1)\">\n       <use xlink:href=\"#DejaVuSans-49\"/>\n       <use x=\"63.623047\" xlink:href=\"#DejaVuSans-48\"/>\n       <use x=\"127.246094\" xlink:href=\"#DejaVuSans-48\"/>\n      </g>\n     </g>\n    </g>\n    <g id=\"xtick_4\">\n     <g id=\"line2d_4\">\n      <g>\n       <use style=\"stroke:#000000;stroke-width:0.8;\" x=\"444.039238\" xlink:href=\"#m58798a4bd7\" y=\"98.302199\"/>\n      </g>\n     </g>\n     <g id=\"text_4\">\n      <!-- 150 -->\n      <g transform=\"translate(434.495488 112.900636)scale(0.1 -0.1)\">\n       <use xlink:href=\"#DejaVuSans-49\"/>\n       <use x=\"63.623047\" xlink:href=\"#DejaVuSans-53\"/>\n       <use x=\"127.246094\" xlink:href=\"#DejaVuSans-48\"/>\n      </g>\n     </g>\n    </g>\n    <g id=\"xtick_5\">\n     <g id=\"line2d_5\">\n      <g>\n       <use style=\"stroke:#000000;stroke-width:0.8;\" x=\"582.615397\" xlink:href=\"#m58798a4bd7\" y=\"98.302199\"/>\n      </g>\n     </g>\n     <g id=\"text_5\">\n      <!-- 200 -->\n      <defs>\n       <path d=\"M 19.1875 8.296875 \nL 53.609375 8.296875 \nL 53.609375 0 \nL 7.328125 0 \nL 7.328125 8.296875 \nQ 12.9375 14.109375 22.625 23.890625 \nQ 32.328125 33.6875 34.8125 36.53125 \nQ 39.546875 41.84375 41.421875 45.53125 \nQ 43.3125 49.21875 43.3125 52.78125 \nQ 43.3125 58.59375 39.234375 62.25 \nQ 35.15625 65.921875 28.609375 65.921875 \nQ 23.96875 65.921875 18.8125 64.3125 \nQ 13.671875 62.703125 7.8125 59.421875 \nL 7.8125 69.390625 \nQ 13.765625 71.78125 18.9375 73 \nQ 24.125 74.21875 28.421875 74.21875 \nQ 39.75 74.21875 46.484375 68.546875 \nQ 53.21875 62.890625 53.21875 53.421875 \nQ 53.21875 48.921875 51.53125 44.890625 \nQ 49.859375 40.875 45.40625 35.40625 \nQ 44.1875 33.984375 37.640625 27.21875 \nQ 31.109375 20.453125 19.1875 8.296875 \nz\n\" id=\"DejaVuSans-50\"/>\n      </defs>\n      <g transform=\"translate(573.071647 112.900636)scale(0.1 -0.1)\">\n       <use xlink:href=\"#DejaVuSans-50\"/>\n       <use x=\"63.623047\" xlink:href=\"#DejaVuSans-48\"/>\n       <use x=\"127.246094\" xlink:href=\"#DejaVuSans-48\"/>\n      </g>\n     </g>\n    </g>\n    <g id=\"xtick_6\">\n     <g id=\"line2d_6\">\n      <g>\n       <use style=\"stroke:#000000;stroke-width:0.8;\" x=\"721.191556\" xlink:href=\"#m58798a4bd7\" y=\"98.302199\"/>\n      </g>\n     </g>\n     <g id=\"text_6\">\n      <!-- 250 -->\n      <g transform=\"translate(711.647806 112.900636)scale(0.1 -0.1)\">\n       <use xlink:href=\"#DejaVuSans-50\"/>\n       <use x=\"63.623047\" xlink:href=\"#DejaVuSans-53\"/>\n       <use x=\"127.246094\" xlink:href=\"#DejaVuSans-48\"/>\n      </g>\n     </g>\n    </g>\n    <g id=\"xtick_7\">\n     <g id=\"line2d_7\">\n      <g>\n       <use style=\"stroke:#000000;stroke-width:0.8;\" x=\"859.767715\" xlink:href=\"#m58798a4bd7\" y=\"98.302199\"/>\n      </g>\n     </g>\n     <g id=\"text_7\">\n      <!-- 300 -->\n      <defs>\n       <path d=\"M 40.578125 39.3125 \nQ 47.65625 37.796875 51.625 33 \nQ 55.609375 28.21875 55.609375 21.1875 \nQ 55.609375 10.40625 48.1875 4.484375 \nQ 40.765625 -1.421875 27.09375 -1.421875 \nQ 22.515625 -1.421875 17.65625 -0.515625 \nQ 12.796875 0.390625 7.625 2.203125 \nL 7.625 11.71875 \nQ 11.71875 9.328125 16.59375 8.109375 \nQ 21.484375 6.890625 26.8125 6.890625 \nQ 36.078125 6.890625 40.9375 10.546875 \nQ 45.796875 14.203125 45.796875 21.1875 \nQ 45.796875 27.640625 41.28125 31.265625 \nQ 36.765625 34.90625 28.71875 34.90625 \nL 20.21875 34.90625 \nL 20.21875 43.015625 \nL 29.109375 43.015625 \nQ 36.375 43.015625 40.234375 45.921875 \nQ 44.09375 48.828125 44.09375 54.296875 \nQ 44.09375 59.90625 40.109375 62.90625 \nQ 36.140625 65.921875 28.71875 65.921875 \nQ 24.65625 65.921875 20.015625 65.03125 \nQ 15.375 64.15625 9.8125 62.3125 \nL 9.8125 71.09375 \nQ 15.4375 72.65625 20.34375 73.4375 \nQ 25.25 74.21875 29.59375 74.21875 \nQ 40.828125 74.21875 47.359375 69.109375 \nQ 53.90625 64.015625 53.90625 55.328125 \nQ 53.90625 49.265625 50.4375 45.09375 \nQ 46.96875 40.921875 40.578125 39.3125 \nz\n\" id=\"DejaVuSans-51\"/>\n      </defs>\n      <g transform=\"translate(850.223965 112.900636)scale(0.1 -0.1)\">\n       <use xlink:href=\"#DejaVuSans-51\"/>\n       <use x=\"63.623047\" xlink:href=\"#DejaVuSans-48\"/>\n       <use x=\"127.246094\" xlink:href=\"#DejaVuSans-48\"/>\n      </g>\n     </g>\n    </g>\n   </g>\n   <g id=\"matplotlib.axis_2\">\n    <g id=\"ytick_1\">\n     <g id=\"line2d_8\">\n      <defs>\n       <path d=\"M 0 0 \nL -3.5 0 \n\" id=\"m5d780fad36\" style=\"stroke:#000000;stroke-width:0.8;\"/>\n      </defs>\n      <g>\n       <use style=\"stroke:#000000;stroke-width:0.8;\" x=\"26.925\" xlink:href=\"#m5d780fad36\" y=\"10.999219\"/>\n      </g>\n     </g>\n     <g id=\"text_8\">\n      <!-- 0 -->\n      <g transform=\"translate(13.5625 14.798437)scale(0.1 -0.1)\">\n       <use xlink:href=\"#DejaVuSans-48\"/>\n      </g>\n     </g>\n    </g>\n    <g id=\"ytick_2\">\n     <g id=\"line2d_9\">\n      <g>\n       <use style=\"stroke:#000000;stroke-width:0.8;\" x=\"26.925\" xlink:href=\"#m5d780fad36\" y=\"38.714451\"/>\n      </g>\n     </g>\n     <g id=\"text_9\">\n      <!-- 10 -->\n      <g transform=\"translate(7.2 42.513669)scale(0.1 -0.1)\">\n       <use xlink:href=\"#DejaVuSans-49\"/>\n       <use x=\"63.623047\" xlink:href=\"#DejaVuSans-48\"/>\n      </g>\n     </g>\n    </g>\n    <g id=\"ytick_3\">\n     <g id=\"line2d_10\">\n      <g>\n       <use style=\"stroke:#000000;stroke-width:0.8;\" x=\"26.925\" xlink:href=\"#m5d780fad36\" y=\"66.429682\"/>\n      </g>\n     </g>\n     <g id=\"text_10\">\n      <!-- 20 -->\n      <g transform=\"translate(7.2 70.228901)scale(0.1 -0.1)\">\n       <use xlink:href=\"#DejaVuSans-50\"/>\n       <use x=\"63.623047\" xlink:href=\"#DejaVuSans-48\"/>\n      </g>\n     </g>\n    </g>\n    <g id=\"ytick_4\">\n     <g id=\"line2d_11\">\n      <g>\n       <use style=\"stroke:#000000;stroke-width:0.8;\" x=\"26.925\" xlink:href=\"#m5d780fad36\" y=\"94.144914\"/>\n      </g>\n     </g>\n     <g id=\"text_11\">\n      <!-- 30 -->\n      <g transform=\"translate(7.2 97.944133)scale(0.1 -0.1)\">\n       <use xlink:href=\"#DejaVuSans-51\"/>\n       <use x=\"63.623047\" xlink:href=\"#DejaVuSans-48\"/>\n      </g>\n     </g>\n    </g>\n   </g>\n   <g id=\"patch_3\">\n    <path d=\"M 26.925 98.302199 \nL 26.925 9.613457 \n\" style=\"fill:none;stroke:#000000;stroke-linecap:square;stroke-linejoin:miter;stroke-width:0.8;\"/>\n   </g>\n   <g id=\"patch_4\">\n    <path d=\"M 863.925 98.302199 \nL 863.925 9.613457 \n\" style=\"fill:none;stroke:#000000;stroke-linecap:square;stroke-linejoin:miter;stroke-width:0.8;\"/>\n   </g>\n   <g id=\"patch_5\">\n    <path d=\"M 26.925 98.302199 \nL 863.925 98.302199 \n\" style=\"fill:none;stroke:#000000;stroke-linecap:square;stroke-linejoin:miter;stroke-width:0.8;\"/>\n   </g>\n   <g id=\"patch_6\">\n    <path d=\"M 26.925 9.613457 \nL 863.925 9.613457 \n\" style=\"fill:none;stroke:#000000;stroke-linecap:square;stroke-linejoin:miter;stroke-width:0.8;\"/>\n   </g>\n  </g>\n </g>\n <defs>\n  <clipPath id=\"p34885cb123\">\n   <rect height=\"88.688742\" width=\"837\" x=\"26.925\" y=\"9.613457\"/>\n  </clipPath>\n </defs>\n</svg>\n",
      "image/png": "[encoded data removed]"
     },
     "metadata": {
      "needs_background": "light"
     }
    }
   ],
   "source": [
    "grid = torchvision.utils.make_grid(images, nrow=10)\n",
    "plt.figure(figsize=(15, 15))\n",
    "plt.imshow(np.transpose(grid, (1, 2, 0)))\n",
    "print(\"Labels: \", labels)"
   ]
  },
  {
   "cell_type": "code",
   "execution_count": null,
   "metadata": {},
   "outputs": [],
   "source": []
  }
 ]
}