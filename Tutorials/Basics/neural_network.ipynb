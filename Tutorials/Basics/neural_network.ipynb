{
 "cells": [
  {
   "cell_type": "markdown",
   "metadata": {},
   "source": [
    "### Building a neural network in PyTorch"
   ]
  },
  {
   "cell_type": "code",
   "execution_count": 1,
   "metadata": {},
   "outputs": [],
   "source": [
    "import torch\n",
    "import torch.nn as nn\n",
    "import torch.nn.functional as F\n",
    "import torch.optim as optim"
   ]
  },
  {
   "cell_type": "code",
   "execution_count": 2,
   "metadata": {
    "tags": []
   },
   "outputs": [
    {
     "output_type": "stream",
     "name": "stdout",
     "text": "Net(\n  (conv1): Conv2d(1, 6, kernel_size=(3, 3), stride=(1, 1))\n  (conv2): Conv2d(6, 16, kernel_size=(3, 3), stride=(1, 1))\n  (fc1): Linear(in_features=576, out_features=120, bias=True)\n  (fc2): Linear(in_features=120, out_features=84, bias=True)\n  (fc3): Linear(in_features=84, out_features=10, bias=True)\n)\n"
    }
   ],
   "source": [
    "class Net(nn.Module):\n",
    "    def __init__(self):\n",
    "        super(Net, self).__init__()\n",
    "        # 1 input image channel, 6 output channels, 3x3 kernel convolution\n",
    "        # kernel\n",
    "        self.conv1 = nn.Conv2d(1, 6, 3)\n",
    "        self.conv2 = nn.Conv2d(6, 16, 3)\n",
    "        # an affine operation: y = Wx + b\n",
    "        self.fc1 = nn.Linear(16 * 6 * 6, 120)  # 6*6 from image dimension\n",
    "        self.fc2 = nn.Linear(120, 84)\n",
    "        self.fc3 = nn.Linear(84, 10)\n",
    "\n",
    "    def forward(self, x):\n",
    "        # Max pooling over a (2, 2) window\n",
    "        x = F.max_pool2d(F.relu(self.conv1(x)), (2, 2))\n",
    "        # If the size is a square you can only specify a single number\n",
    "        x = F.max_pool2d(F.relu(self.conv2(x)), 2)\n",
    "        x = x.view(-1, self.num_flat_features(x)) # its like a flatten of tensorflow\n",
    "        x = F.relu(self.fc1(x))\n",
    "        x = F.relu(self.fc2(x))\n",
    "        x = self.fc3(x)\n",
    "        return x\n",
    "\n",
    "    def num_flat_features(self, x):\n",
    "        size = x.size()[1:]  # all dimensions except the batch dimension\n",
    "        num_features = 1\n",
    "        for s in size:\n",
    "            num_features *= s\n",
    "        return num_features\n",
    "\n",
    "\n",
    "net = Net()\n",
    "print(net)"
   ]
  },
  {
   "cell_type": "code",
   "execution_count": 3,
   "metadata": {
    "tags": []
   },
   "outputs": [
    {
     "output_type": "stream",
     "name": "stdout",
     "text": "10\ntorch.Size([6, 1, 3, 3])\n"
    }
   ],
   "source": [
    "params = list(net.parameters())  # list out all parameters\n",
    "print(len(params))\n",
    "print(params[0].size())  # conv1's .weight"
   ]
  },
  {
   "cell_type": "code",
   "execution_count": 4,
   "metadata": {
    "tags": []
   },
   "outputs": [
    {
     "output_type": "stream",
     "name": "stdout",
     "text": "tensor([[-0.0057,  0.0673, -0.1442,  0.1006,  0.0877,  0.0826, -0.0611,  0.0510,\n         -0.0587, -0.0060]], grad_fn=<AddmmBackward>)\n"
    }
   ],
   "source": [
    "input = torch.randn(1, 1, 32, 32) # (batch, C, W, H)\n",
    "out = net(input)\n",
    "print(out)"
   ]
  },
  {
   "cell_type": "code",
   "execution_count": 5,
   "metadata": {},
   "outputs": [],
   "source": [
    "# Zero the gradient buffers of all parameters and backprops with random gradients:"
   ]
  },
  {
   "cell_type": "code",
   "execution_count": 6,
   "metadata": {},
   "outputs": [],
   "source": [
    "net.zero_grad() # Sets gradients of all model parameters to zero."
   ]
  },
  {
   "cell_type": "code",
   "execution_count": 7,
   "metadata": {},
   "outputs": [],
   "source": [
    "out.backward(torch.randn(1, 10))"
   ]
  },
  {
   "cell_type": "code",
   "execution_count": 8,
   "metadata": {},
   "outputs": [],
   "source": [
    "# loss function"
   ]
  },
  {
   "cell_type": "code",
   "execution_count": 9,
   "metadata": {},
   "outputs": [],
   "source": [
    "target = torch.randn(10)  # a dummy target, for example\n",
    "target = target.view(1, -1)  # make it the same shape as output\n",
    "criterion = nn.MSELoss()\n",
    "output = net(input)"
   ]
  },
  {
   "cell_type": "code",
   "execution_count": null,
   "metadata": {},
   "outputs": [],
   "source": []
  },
  {
   "cell_type": "code",
   "execution_count": 10,
   "metadata": {},
   "outputs": [],
   "source": [
    "loss = criterion(output, target)"
   ]
  },
  {
   "cell_type": "code",
   "execution_count": 11,
   "metadata": {
    "tags": []
   },
   "outputs": [
    {
     "output_type": "stream",
     "name": "stdout",
     "text": "tensor(1.2468, grad_fn=<MseLossBackward>)\n"
    }
   ],
   "source": [
    "print(loss)"
   ]
  },
  {
   "cell_type": "code",
   "execution_count": 12,
   "metadata": {
    "tags": []
   },
   "outputs": [
    {
     "output_type": "stream",
     "name": "stdout",
     "text": "<MseLossBackward object at 0x7f70881f1370>\n<AddmmBackward object at 0x7f70881f1be0>\n<AccumulateGrad object at 0x7f70881f1370>\n"
    }
   ],
   "source": [
    "print(loss.grad_fn)  # MSELoss\n",
    "print(loss.grad_fn.next_functions[0][0])  # Linear\n",
    "print(loss.grad_fn.next_functions[0][0].next_functions[0][0])  # ReLU"
   ]
  },
  {
   "cell_type": "code",
   "execution_count": 13,
   "metadata": {},
   "outputs": [],
   "source": [
    "# Backprop"
   ]
  },
  {
   "cell_type": "code",
   "execution_count": 14,
   "metadata": {
    "tags": []
   },
   "outputs": [
    {
     "output_type": "stream",
     "name": "stdout",
     "text": "conv1.weight.grad before backward\ntensor([[[[0., 0., 0.],\n          [0., 0., 0.],\n          [0., 0., 0.]]],\n\n\n        [[[0., 0., 0.],\n          [0., 0., 0.],\n          [0., 0., 0.]]],\n\n\n        [[[0., 0., 0.],\n          [0., 0., 0.],\n          [0., 0., 0.]]],\n\n\n        [[[0., 0., 0.],\n          [0., 0., 0.],\n          [0., 0., 0.]]],\n\n\n        [[[0., 0., 0.],\n          [0., 0., 0.],\n          [0., 0., 0.]]],\n\n\n        [[[0., 0., 0.],\n          [0., 0., 0.],\n          [0., 0., 0.]]]])\nconv1.bias.grad before backward\ntensor([0., 0., 0., 0., 0., 0.])\nconv1.weight.grad after backward\ntensor([[[[-6.2256e-03, -7.0671e-03,  1.9850e-03],\n          [-2.4205e-02,  1.1469e-02, -1.1738e-02],\n          [-4.7517e-03, -2.7548e-03,  2.4390e-03]]],\n\n\n        [[[ 1.0485e-02, -9.4935e-03,  1.3113e-02],\n          [ 2.1902e-02,  2.7708e-02, -4.0821e-03],\n          [-3.1640e-03, -7.2389e-03, -1.0532e-03]]],\n\n\n        [[[-1.2317e-03, -1.0144e-02, -8.5990e-05],\n          [-6.5920e-03,  3.4799e-03, -8.9887e-04],\n          [-1.4312e-02, -9.9698e-03, -6.9395e-03]]],\n\n\n        [[[ 1.7880e-02, -1.6829e-03,  1.6179e-05],\n          [ 2.7715e-03,  4.8408e-03, -5.6530e-04],\n          [-1.9370e-02, -2.7177e-03,  2.4766e-03]]],\n\n\n        [[[ 3.2293e-03,  1.5057e-02,  9.5044e-03],\n          [-9.2834e-03, -7.4750e-03,  8.6988e-03],\n          [ 1.7386e-02,  1.9171e-02, -3.3950e-03]]],\n\n\n        [[[ 1.0194e-03,  1.0165e-02, -5.9692e-03],\n          [-7.0128e-03,  6.2785e-03,  8.7948e-03],\n          [ 5.4586e-03, -1.4674e-03,  4.6301e-03]]]])\nconv1.bias.grad after backward\ntensor([ 0.0022,  0.0052,  0.0048, -0.0064,  0.0068, -0.0035])\n"
    }
   ],
   "source": [
    "net.zero_grad()\n",
    "print('conv1.weight.grad before backward') # shape = torch.Size([6, 1, 3, 3])\n",
    "print(net.conv1.weight.grad)\n",
    "\n",
    "print('conv1.bias.grad before backward') # shape = torch.Size(6)\n",
    "print(net.conv1.bias.grad)\n",
    "\n",
    "loss.backward() # differentiation\n",
    "\n",
    "print('conv1.weight.grad after backward')\n",
    "print(net.conv1.weight.grad)\n",
    "\n",
    "print('conv1.bias.grad after backward')\n",
    "print(net.conv1.bias.grad)\n"
   ]
  },
  {
   "cell_type": "code",
   "execution_count": 15,
   "metadata": {},
   "outputs": [],
   "source": [
    "# update weights"
   ]
  },
  {
   "cell_type": "code",
   "execution_count": 16,
   "metadata": {},
   "outputs": [],
   "source": [
    "lr = 0.01\n",
    "for f in net.parameters():\n",
    "    f.data.sub_(f.grad.data * lr)"
   ]
  },
  {
   "cell_type": "code",
   "execution_count": 17,
   "metadata": {},
   "outputs": [],
   "source": [
    "# create your optimizer\n",
    "optimizer = optim.SGD(net.parameters(), lr=0.01)\n",
    "\n",
    "# in your training loop:\n",
    "optimizer.zero_grad()   # zero the gradient buffers\n",
    "output = net(input)\n",
    "loss = criterion(output, target)\n",
    "loss.backward()\n",
    "optimizer.step()    # Does the update"
   ]
  },
  {
   "cell_type": "code",
   "execution_count": 18,
   "metadata": {
    "tags": []
   },
   "outputs": [
    {
     "output_type": "stream",
     "name": "stdout",
     "text": "Parameter containing:\ntensor([[[[ 0.0539,  0.3103, -0.2617],\n          [-0.0726,  0.2297, -0.1196],\n          [ 0.2726,  0.0332, -0.0647]]],\n\n\n        [[[-0.1699, -0.0201,  0.1948],\n          [ 0.0737,  0.0441, -0.1629],\n          [ 0.3165,  0.3194,  0.1159]]],\n\n\n        [[[ 0.0052,  0.3012, -0.2740],\n          [ 0.1161,  0.2156, -0.0856],\n          [ 0.0592,  0.1318,  0.2348]]],\n\n\n        [[[-0.3293,  0.0444, -0.1716],\n          [-0.3066,  0.0106,  0.1090],\n          [-0.3205,  0.0039, -0.0434]]],\n\n\n        [[[ 0.3089, -0.0144,  0.3036],\n          [-0.1949,  0.0770,  0.2153],\n          [-0.2601,  0.1125,  0.1511]]],\n\n\n        [[[-0.0114, -0.2684, -0.2095],\n          [ 0.0441,  0.1571, -0.2683],\n          [ 0.0199, -0.0286,  0.2261]]]], requires_grad=True)\nParameter containing:\ntensor([ 0.3053,  0.1891,  0.0585, -0.1480, -0.1886, -0.2541],\n       requires_grad=True)\n"
    }
   ],
   "source": [
    "print(net.conv1.weight) # updated weight of conv1\n",
    "print(net.conv1.bias) # updated bias of conv1"
   ]
  },
  {
   "cell_type": "code",
   "execution_count": null,
   "metadata": {},
   "outputs": [],
   "source": []
  },
  {
   "cell_type": "code",
   "execution_count": null,
   "metadata": {},
   "outputs": [],
   "source": []
  },
  {
   "cell_type": "code",
   "execution_count": null,
   "metadata": {},
   "outputs": [],
   "source": []
  },
  {
   "cell_type": "code",
   "execution_count": null,
   "metadata": {},
   "outputs": [],
   "source": []
  }
 ],
 "metadata": {
  "kernelspec": {
   "display_name": "Python 3",
   "language": "python",
   "name": "python3"
  },
  "language_info": {
   "codemirror_mode": {
    "name": "ipython",
    "version": 3
   },
   "file_extension": ".py",
   "mimetype": "text/x-python",
   "name": "python",
   "nbconvert_exporter": "python",
   "pygments_lexer": "ipython3",
   "version": "3.8.2-final"
  },
  "toc": {
   "base_numbering": 1,
   "nav_menu": {},
   "number_sections": true,
   "sideBar": true,
   "skip_h1_title": false,
   "title_cell": "Table of Contents",
   "title_sidebar": "Contents",
   "toc_cell": false,
   "toc_position": {},
   "toc_section_display": true,
   "toc_window_display": false
  },
  "varInspector": {
   "cols": {
    "lenName": 16,
    "lenType": 16,
    "lenVar": 40
   },
   "kernels_config": {
    "python": {
     "delete_cmd_postfix": "",
     "delete_cmd_prefix": "del ",
     "library": "var_list.py",
     "varRefreshCmd": "print(var_dic_list())"
    },
    "r": {
     "delete_cmd_postfix": ") ",
     "delete_cmd_prefix": "rm(",
     "library": "var_list.r",
     "varRefreshCmd": "cat(var_dic_list()) "
    }
   },
   "types_to_exclude": [
    "module",
    "function",
    "builtin_function_or_method",
    "instance",
    "_Feature"
   ],
   "window_display": false
  }
 },
 "nbformat": 4,
 "nbformat_minor": 4
}