{
 "cells": [
  {
   "cell_type": "markdown",
   "metadata": {},
   "source": [
    "### Building a neural network in PyTorch"
   ]
  },
  {
   "cell_type": "code",
   "execution_count": 40,
   "metadata": {},
   "outputs": [],
   "source": [
    "import torch\n",
    "import torch.nn as nn\n",
    "import torch.nn.functional as F\n",
    "import torch.optim as optim\n",
    "\n",
    "from torchsummary import torchsummary"
   ]
  },
  {
   "cell_type": "code",
   "execution_count": 2,
   "metadata": {
    "tags": []
   },
   "outputs": [
    {
     "output_type": "stream",
     "name": "stdout",
     "text": "Net(\n  (conv1): Conv2d(1, 6, kernel_size=(3, 3), stride=(1, 1))\n  (conv2): Conv2d(6, 16, kernel_size=(3, 3), stride=(1, 1))\n  (fc1): Linear(in_features=576, out_features=120, bias=True)\n  (fc2): Linear(in_features=120, out_features=84, bias=True)\n  (fc3): Linear(in_features=84, out_features=10, bias=True)\n)\n"
    }
   ],
   "source": [
    "class Net(nn.Module):\n",
    "    def __init__(self):\n",
    "        super(Net, self).__init__()\n",
    "        # 1 input image channel, 6 output channels, 3x3 kernel convolution\n",
    "        # kernel\n",
    "        self.conv1 = nn.Conv2d(1, 6, 3)\n",
    "        self.conv2 = nn.Conv2d(6, 16, 3)\n",
    "        # an affine operation: y = Wx + b\n",
    "        self.fc1 = nn.Linear(16 * 6 * 6, 120)  # 6*6 from image dimension\n",
    "        self.fc2 = nn.Linear(120, 84)\n",
    "        self.fc3 = nn.Linear(84, 10)\n",
    "\n",
    "    def forward(self, x):\n",
    "        # Max pooling over a (2, 2) window\n",
    "        x = F.max_pool2d(F.relu(self.conv1(x)), (2, 2))\n",
    "        # If the size is a square you can only specify a single number\n",
    "        x = F.max_pool2d(F.relu(self.conv2(x)), 2)\n",
    "        x = x.view(-1, self.num_flat_features(x)) # its like a flatten of tensorflow\n",
    "        x = F.relu(self.fc1(x))\n",
    "        x = F.relu(self.fc2(x))\n",
    "        x = self.fc3(x)\n",
    "        return x\n",
    "\n",
    "    def num_flat_features(self, x):\n",
    "        size = x.size()[1:]  # all dimensions except the batch dimension\n",
    "        num_features = 1\n",
    "        for s in size:\n",
    "            num_features *= s\n",
    "        return num_features\n",
    "\n",
    "\n",
    "net = Net()\n",
    "print(net)"
   ]
  },
  {
   "cell_type": "code",
   "execution_count": 3,
   "metadata": {
    "tags": []
   },
   "outputs": [
    {
     "output_type": "stream",
     "name": "stdout",
     "text": "10\ntorch.Size([6, 1, 3, 3])\n"
    }
   ],
   "source": [
    "params = list(net.parameters())  # list out all parameters\n",
    "print(len(params))\n",
    "print(params[0].size())  # conv1's .weight"
   ]
  },
  {
   "cell_type": "code",
   "execution_count": 4,
   "metadata": {
    "tags": []
   },
   "outputs": [
    {
     "output_type": "stream",
     "name": "stdout",
     "text": "tensor([[ 0.0709, -0.1327,  0.0413,  0.0124,  0.1347, -0.0714,  0.0825, -0.1766,\n         -0.0303, -0.0630]], grad_fn=<AddmmBackward>)\n"
    }
   ],
   "source": [
    "input = torch.randn(1, 1, 32, 32) # (batch, C, W, H)\n",
    "out = net(input)\n",
    "print(out)"
   ]
  },
  {
   "cell_type": "code",
   "execution_count": 5,
   "metadata": {},
   "outputs": [],
   "source": [
    "# Zero the gradient buffers of all parameters and backprops with random gradients:"
   ]
  },
  {
   "cell_type": "code",
   "execution_count": 6,
   "metadata": {},
   "outputs": [],
   "source": [
    "net.zero_grad() # Sets gradients of all model parameters to zero."
   ]
  },
  {
   "cell_type": "code",
   "execution_count": 7,
   "metadata": {},
   "outputs": [],
   "source": [
    "out.backward(torch.randn(1, 10))"
   ]
  },
  {
   "cell_type": "code",
   "execution_count": 8,
   "metadata": {},
   "outputs": [],
   "source": [
    "# loss function"
   ]
  },
  {
   "cell_type": "code",
   "execution_count": 9,
   "metadata": {},
   "outputs": [],
   "source": [
    "target = torch.randn(10)  # a dummy target, for example\n",
    "target = target.view(1, -1)  # make it the same shape as output\n",
    "criterion = nn.MSELoss()\n",
    "output = net(input)"
   ]
  },
  {
   "cell_type": "code",
   "execution_count": null,
   "metadata": {},
   "outputs": [],
   "source": []
  },
  {
   "cell_type": "code",
   "execution_count": 10,
   "metadata": {},
   "outputs": [],
   "source": [
    "loss = criterion(output, target)"
   ]
  },
  {
   "cell_type": "code",
   "execution_count": 11,
   "metadata": {
    "tags": []
   },
   "outputs": [
    {
     "output_type": "stream",
     "name": "stdout",
     "text": "tensor(0.9218, grad_fn=<MseLossBackward>)\n"
    }
   ],
   "source": [
    "print(loss)"
   ]
  },
  {
   "cell_type": "code",
   "execution_count": 12,
   "metadata": {
    "tags": []
   },
   "outputs": [
    {
     "output_type": "stream",
     "name": "stdout",
     "text": "<MseLossBackward object at 0x7f9ee3b03ca0>\n<AddmmBackward object at 0x7f9ee3b03e20>\n<AccumulateGrad object at 0x7f9ee3b03ca0>\n"
    }
   ],
   "source": [
    "print(loss.grad_fn)  # MSELoss\n",
    "print(loss.grad_fn.next_functions[0][0])  # Linear\n",
    "print(loss.grad_fn.next_functions[0][0].next_functions[0][0])  # ReLU"
   ]
  },
  {
   "cell_type": "code",
   "execution_count": 13,
   "metadata": {},
   "outputs": [],
   "source": [
    "# Backprop"
   ]
  },
  {
   "cell_type": "code",
   "execution_count": 14,
   "metadata": {
    "tags": []
   },
   "outputs": [
    {
     "output_type": "stream",
     "name": "stdout",
     "text": "conv1.weight.grad before backward\ntensor([[[[0., 0., 0.],\n          [0., 0., 0.],\n          [0., 0., 0.]]],\n\n\n        [[[0., 0., 0.],\n          [0., 0., 0.],\n          [0., 0., 0.]]],\n\n\n        [[[0., 0., 0.],\n          [0., 0., 0.],\n          [0., 0., 0.]]],\n\n\n        [[[0., 0., 0.],\n          [0., 0., 0.],\n          [0., 0., 0.]]],\n\n\n        [[[0., 0., 0.],\n          [0., 0., 0.],\n          [0., 0., 0.]]],\n\n\n        [[[0., 0., 0.],\n          [0., 0., 0.],\n          [0., 0., 0.]]]])\nconv1.bias.grad before backward\ntensor([0., 0., 0., 0., 0., 0.])\nconv1.weight.grad after backward\ntensor([[[[-0.0040, -0.0152,  0.0113],\n          [-0.0132,  0.0205,  0.0135],\n          [-0.0046,  0.0016, -0.0245]]],\n\n\n        [[[ 0.0287,  0.0030,  0.0032],\n          [-0.0012, -0.0031, -0.0042],\n          [ 0.0184, -0.0012,  0.0096]]],\n\n\n        [[[-0.0196,  0.0057, -0.0162],\n          [ 0.0186, -0.0214, -0.0004],\n          [ 0.0118, -0.0118,  0.0106]]],\n\n\n        [[[-0.0131,  0.0203,  0.0040],\n          [-0.0073, -0.0057, -0.0029],\n          [ 0.0206, -0.0056, -0.0100]]],\n\n\n        [[[-0.0076,  0.0248,  0.0001],\n          [-0.0063,  0.0013, -0.0080],\n          [ 0.0085, -0.0126, -0.0204]]],\n\n\n        [[[-0.0011, -0.0019,  0.0040],\n          [ 0.0026, -0.0051, -0.0118],\n          [ 0.0036, -0.0073, -0.0178]]]])\nconv1.bias.grad after backward\ntensor([ 0.0019, -0.0112, -0.0129,  0.0107,  0.0058,  0.0028])\n"
    }
   ],
   "source": [
    "net.zero_grad()\n",
    "print('conv1.weight.grad before backward') # shape = torch.Size([6, 1, 3, 3])\n",
    "print(net.conv1.weight.grad)\n",
    "\n",
    "print('conv1.bias.grad before backward') # shape = torch.Size(6)\n",
    "print(net.conv1.bias.grad)\n",
    "\n",
    "loss.backward() # differentiation\n",
    "\n",
    "print('conv1.weight.grad after backward')\n",
    "print(net.conv1.weight.grad)\n",
    "\n",
    "print('conv1.bias.grad after backward')\n",
    "print(net.conv1.bias.grad)\n"
   ]
  },
  {
   "cell_type": "code",
   "execution_count": 15,
   "metadata": {},
   "outputs": [],
   "source": [
    "# update weights"
   ]
  },
  {
   "cell_type": "code",
   "execution_count": 16,
   "metadata": {},
   "outputs": [],
   "source": [
    "lr = 0.01\n",
    "for f in net.parameters():\n",
    "    f.data.sub_(f.grad.data * lr)"
   ]
  },
  {
   "cell_type": "code",
   "execution_count": 17,
   "metadata": {},
   "outputs": [],
   "source": [
    "# create your optimizer\n",
    "optimizer = optim.SGD(net.parameters(), lr=0.01)\n",
    "\n",
    "# in your training loop:\n",
    "optimizer.zero_grad()   # zero the gradient buffers\n",
    "output = net(input)\n",
    "loss = criterion(output, target)\n",
    "loss.backward()\n",
    "optimizer.step()    # Does the update"
   ]
  },
  {
   "cell_type": "code",
   "execution_count": 18,
   "metadata": {
    "tags": []
   },
   "outputs": [
    {
     "output_type": "stream",
     "name": "stdout",
     "text": "Parameter containing:\ntensor([[[[-0.2092, -0.0955,  0.1885],\n          [-0.0214,  0.0495,  0.0254],\n          [ 0.3304,  0.3249,  0.1404]]],\n\n\n        [[[-0.1057, -0.1083, -0.1745],\n          [ 0.2324, -0.0814,  0.1427],\n          [-0.1062, -0.1345, -0.3218]]],\n\n\n        [[[-0.0556,  0.0269,  0.2000],\n          [-0.2282,  0.2636, -0.1187],\n          [ 0.1590,  0.2832,  0.0198]]],\n\n\n        [[[ 0.1554,  0.0443,  0.1690],\n          [-0.3220,  0.1124, -0.1000],\n          [ 0.3041,  0.1204,  0.0597]]],\n\n\n        [[[-0.0791,  0.0231, -0.2085],\n          [ 0.1027, -0.0681, -0.2438],\n          [-0.1563,  0.3104, -0.2443]]],\n\n\n        [[[-0.1176,  0.0856, -0.1144],\n          [ 0.1699, -0.1369, -0.0251],\n          [-0.1727, -0.2576, -0.1505]]]], requires_grad=True)\nParameter containing:\ntensor([ 0.2389,  0.2400, -0.1282, -0.2157, -0.1651,  0.2641],\n       requires_grad=True)\n"
    }
   ],
   "source": [
    "print(net.conv1.weight) # updated weight of conv1\n",
    "print(net.conv1.bias) # updated bias of conv1"
   ]
  },
  {
   "cell_type": "markdown",
   "metadata": {},
   "source": [
    "### Building the neural network in numpy"
   ]
  },
  {
   "cell_type": "code",
   "execution_count": 19,
   "metadata": {},
   "outputs": [],
   "source": [
    "import numpy as np"
   ]
  },
  {
   "cell_type": "code",
   "execution_count": 20,
   "metadata": {},
   "outputs": [],
   "source": [
    "# N is batch size; D_in is input dimension;\n",
    "# D_h is hidden dimension; D_out is output dimension."
   ]
  },
  {
   "cell_type": "code",
   "execution_count": 21,
   "metadata": {},
   "outputs": [],
   "source": [
    "# building 2 layer feed forward neural net."
   ]
  },
  {
   "cell_type": "code",
   "execution_count": 22,
   "metadata": {},
   "outputs": [],
   "source": [
    "N, D_in, D_h, D_out = 64, 1000, 100, 10"
   ]
  },
  {
   "cell_type": "code",
   "execution_count": 23,
   "metadata": {},
   "outputs": [],
   "source": [
    "# creating random input and output data"
   ]
  },
  {
   "cell_type": "code",
   "execution_count": 24,
   "metadata": {},
   "outputs": [],
   "source": [
    "x = np.random.randn(N, D_in)\n",
    "y = np.random.randn(N, D_out)"
   ]
  },
  {
   "cell_type": "code",
   "execution_count": 25,
   "metadata": {},
   "outputs": [],
   "source": [
    "# randomly initializing weights"
   ]
  },
  {
   "cell_type": "code",
   "execution_count": 26,
   "metadata": {},
   "outputs": [],
   "source": [
    "w1 = np.random.randn(D_in, D_h)\n",
    "w2 = np.random.randn(D_h, D_out)"
   ]
  },
  {
   "cell_type": "code",
   "execution_count": 27,
   "metadata": {},
   "outputs": [],
   "source": [
    "lr = 1e-6"
   ]
  },
  {
   "cell_type": "code",
   "execution_count": 28,
   "metadata": {
    "tags": []
   },
   "outputs": [
    {
     "output_type": "stream",
     "name": "stdout",
     "text": "37067542.94334827\n43728517.089867316\n59126110.69765696\n67254317.19113758\n49397725.25204694\n20873509.814084142\n6062621.714529593\n2285472.5861908975\n1412596.1988003482\n1091760.8552572448\n896502.1479915063\n750111.1832361736\n633943.9076387167\n539960.2805066684\n462928.8663222154\n399239.7176547616\n346186.17626899324\n301709.9327622862\n264169.4418756169\n232231.65043946548\n204936.75837619934\n181487.7097800699\n161246.19820831198\n143697.06599834925\n128409.82265639835\n115059.02494414602\n103344.59104947116\n93033.56441196322\n83930.1275097398\n75874.253405867\n68723.84906732837\n62382.933880540804\n56735.541619886164\n51690.352692052154\n47169.669786673054\n43105.44137648971\n39445.57971878331\n36145.148349210926\n33160.958445420285\n30459.140074202645\n28009.63564975006\n25784.816425275014\n23760.91119835395\n21917.519721046658\n20244.42616576638\n18715.512125802394\n17318.444525317424\n16039.76420740183\n14866.94306886348\n13790.790595850713\n12802.000996799185\n11892.972241578555\n11055.369646936333\n10283.464341451594\n9571.653043565224\n8914.849290161143\n8307.776165584186\n7746.85313888984\n7228.181039416768\n6748.036424588831\n6303.130927462882\n5890.299131530076\n5507.185232366073\n5151.5350518763\n4821.176512921782\n4514.08633470976\n4228.430247307778\n3962.5313094356943\n3714.937785501847\n3484.2413377590965\n3269.152484158006\n3068.553469722462\n2881.3224758853053\n2706.524946157243\n2543.2897524116424\n2390.71725904832\n2248.0480194436923\n2114.6201844904017\n1989.7970882075078\n1873.0265648589111\n1763.5939156094291\n1661.07486945868\n1564.9922226186732\n1474.8992876901316\n1390.41571391365\n1311.1312849535968\n1236.7296257809885\n1166.8695395460322\n1101.2532324661424\n1039.5944842475856\n981.6493076493821\n927.1457652338609\n875.8957647750899\n827.6986520192036\n782.3276032680862\n739.633554528637\n699.4158807970674\n661.5322837555802\n625.8408219133773\n592.2074727070093\n560.5001859216892\n530.6104985232938\n502.4147728223646\n475.81142176772966\n450.71072835295223\n427.01465935829606\n404.6575086827279\n383.5520884751613\n363.6072782950216\n344.76869082161846\n326.96926749783904\n310.1378817049241\n294.23014021728955\n279.18551003468156\n264.95314417773693\n251.4882708249472\n238.74533616180477\n226.68452221374338\n215.26929742642594\n204.4633387273517\n194.22537051173535\n184.52641198302484\n175.34002282602535\n166.63711227730357\n158.38824492510065\n150.56700550682342\n143.15330516821325\n136.12338564986104\n129.4563796461572\n123.13203623887006\n117.13366714360079\n111.44044479913991\n106.03695833045924\n100.90837264623312\n96.04065927087035\n91.41887471314998\n87.02980081566241\n82.85956601658005\n78.89924943630183\n75.13697175752151\n71.56157176538855\n68.16484380445631\n64.93596611950436\n61.86719606941663\n58.94856753087835\n56.17434886679199\n53.535706331082764\n51.027182504129726\n48.64034523146755\n46.36928778025463\n44.20903995156526\n42.153019124059384\n40.19667087779531\n38.3352938698049\n36.56277195183475\n34.875514991637814\n33.26886611165494\n31.739079613418106\n30.282387669235508\n28.895631027168196\n27.574159145189384\n26.31512627460136\n25.11569263635213\n23.972684578369993\n22.88354531033067\n21.846285957622882\n20.85697060191786\n19.913959204491896\n19.01504939101442\n18.158216330959725\n17.341097224764106\n16.562142594596267\n15.819183547089619\n15.110737423565574\n14.434889095505019\n13.790138791281535\n13.175148653011835\n12.588680682545682\n12.028807373003298\n11.494530436646052\n10.98476737736532\n10.498233728605085\n10.033848259410613\n9.590823951021155\n9.167685003383852\n8.763834024503062\n8.378196998837378\n8.009994168706216\n7.65839303092834\n7.322746756700022\n7.002230726090527\n6.69600565257846\n6.403552718146555\n6.12415192626557\n5.857285278930087\n5.602431895061523\n5.358814045506541\n5.126079882072553\n4.903722840189571\n4.691226868961628\n4.488133109801186\n4.294133609739616\n4.1086913622994\n3.9313733351638294\n3.761898133155175\n3.599897961587738\n3.445074498883667\n3.2970695375288024\n3.1555113716339833\n3.020190039772795\n2.890776183818206\n2.7670403490149207\n2.6486934143559315\n2.5355823731200893\n2.427361479810811\n2.3238385763439187\n2.224833363364503\n2.130114479273521\n2.0395137452518184\n1.952884376393837\n1.8699922473296253\n1.790668059507686\n1.7147678156616186\n1.6421539569701928\n1.5726722811852962\n1.5061977284989905\n1.4425947242512287\n1.3817117304519488\n1.323453523544906\n1.2676789699340634\n1.2142973188509676\n1.1632183899521087\n1.114333703256086\n1.0675191756482638\n1.0227047544834156\n0.9798103172226076\n0.9387519550030222\n0.8994360545938291\n0.861807007707293\n0.8257708691606261\n0.791260118554199\n0.7582177415885067\n0.7265737552636098\n0.696277873170988\n0.66727035705789\n0.6394837726637095\n0.6128723951431357\n0.5873859703285931\n0.5629695321369168\n0.539589043495713\n0.5172010719312604\n0.4957547972012293\n0.4752018150809\n0.4555170579832609\n0.43665853481153494\n0.41859480814400607\n0.4012909332444277\n0.38471114921005717\n0.3688264217830991\n0.3536051743037175\n0.3390193779695929\n0.32504318017735834\n0.31165438434258674\n0.2988273626246758\n0.2865311415453454\n0.2747472879164655\n0.2634559199752953\n0.2526342508838833\n0.24226467819126793\n0.23235987296809357\n0.22287462612016753\n0.21378269067289035\n0.20506788712075286\n0.1967124911614966\n0.18870361191272136\n0.18102628528176767\n0.1736697764075138\n0.1666094605421175\n0.15984039441608527\n0.15334953230421322\n0.14712695701747933\n0.14116163162518375\n0.13544107437597946\n0.12995317029217174\n0.12469082200397325\n0.11964439139166574\n0.1148045687829925\n0.11016489719163579\n0.10571556075248337\n0.10144632959065442\n0.09735114535396447\n0.09342273571448328\n0.08965517328395675\n0.08604138963990703\n0.08257640451533765\n0.0792510362053688\n0.07606166815231855\n0.0730017144003983\n0.07006616392085527\n0.06725103501425363\n0.06455052375101429\n0.06195879115381259\n0.05947193996301246\n0.05708593574191419\n0.054796662404124306\n0.052600430563728345\n0.050493203054269964\n0.04847178423866869\n0.04653124435175969\n0.04466920382959921\n0.042882603379426655\n0.041168754273498476\n0.039524751140733456\n0.037946583187832145\n0.03643139218131683\n0.0349772788109728\n0.03358210678533192\n0.03224289333397687\n0.030957594356616214\n0.029724493363477735\n0.028540883238488652\n0.027404709834654335\n0.026313994574747795\n0.02526710221585956\n0.02426293465241556\n0.02329878336054854\n0.02237324629540604\n0.021484568024500057\n0.020631643326262883\n0.019812812150118982\n0.019026789973329683\n0.01827220728362832\n0.017548118870091483\n0.01685268988725626\n0.016185057453216672\n0.015544255504550856\n0.014929011856744443\n0.014338522776047677\n0.013771542756486482\n0.013227022606847294\n0.012704181975320668\n0.012202215308358275\n0.011720199883352475\n0.011257502738963004\n0.010813206143576538\n0.010386698558221294\n0.009976972356477513\n0.00958357812029103\n0.009205796143077944\n0.008843091847832683\n0.0084949165858836\n0.0081606112011865\n0.007839373664593224\n0.007530855404697637\n0.007234556374097677\n0.006950029639907153\n0.006676821619284019\n0.00641445689022817\n0.006162515679583869\n0.00592047232334496\n0.0056880130031907936\n0.00546475977837115\n0.00525036353070338\n0.005044501909100744\n0.004846783003887855\n0.004656760259540953\n0.004474272410265975\n0.004298983320300243\n0.004130587506905007\n0.003968859197058685\n0.003813547708487533\n0.0036643352663064165\n0.0035209804001199527\n0.003383278730460134\n0.00325101451571636\n0.0031239732834624618\n0.003001977198161492\n0.0028847522528892156\n0.00277210300547865\n0.0026638696371915076\n0.002559889320906732\n0.0024600074655361267\n0.002364061967982955\n0.0022719040089423264\n0.0021833371225310977\n0.002098229411885465\n0.0020164672325949824\n0.0019379139642847303\n0.00186246025541168\n0.001789999189302811\n0.0017203617215492543\n0.0016534251115198717\n0.0015890956936353527\n0.0015272841342717008\n0.0014678987029831865\n0.0014108394470195057\n0.0013560311658577782\n0.0013033488237074154\n0.001252726264563853\n0.0012040769377423908\n0.0011573328885460792\n0.0011124128679075376\n0.0010692868619890284\n0.0010278155966818839\n0.0009879529745522658\n0.000949645079549432\n0.0009128347443983071\n0.0008774546730861017\n0.0008434579077678413\n0.0008107978458196241\n0.0007793955432181212\n0.0007492186154679822\n0.0007202182521389544\n0.0006923465961969598\n0.0006655600007258987\n0.0006398353827814068\n0.0006151014418628292\n0.0005913187201685911\n0.0005684585144247621\n0.000546488533329891\n0.0005253714984320358\n0.0005050793257125749\n0.00048558522183366534\n0.00046683519463716064\n0.00044881277689525086\n0.0004314913866549532\n0.00041483992329643775\n0.0003988361821964899\n0.00038346337533386274\n0.00036868947074710396\n0.00035447628244119646\n0.0003408117931913939\n0.0003276779472872249\n0.0003150535568212264\n0.0003029171549308305\n0.00029125546112216815\n0.00028004111924995965\n0.00026926181852984565\n0.00025889927173074656\n0.0002489360594891888\n0.0002393579804023627\n0.00023015606517173907\n0.00022131144643341077\n0.0002128030357596867\n0.00020462240664236513\n0.00019675881656210732\n0.0001891983212851489\n0.0001819293257162953\n0.0001749436511691594\n0.00016822549200944153\n0.00016176620949889207\n0.00015555573228645683\n0.00014958535900460804\n0.00014384605242662407\n0.00013832975991111675\n0.00013302866903849115\n0.00012792618222214302\n0.0001230205068208353\n0.0001183044792565336\n0.00011376972587955227\n0.00010940955718529127\n0.00010521920947755964\n0.00010118866450767761\n9.731290918992978e-05\n9.358619905092117e-05\n9.000282909901169e-05\n8.655773174036068e-05\n8.324487157057597e-05\n8.006294605456788e-05\n7.700006990922769e-05\n7.405426841691724e-05\n7.122187734882846e-05\n6.849801281246504e-05\n6.587890592747828e-05\n6.336098579296919e-05\n6.094011037756272e-05\n5.8611351017218945e-05\n5.637196786286743e-05\n5.421825450176915e-05\n5.2147379855474265e-05\n5.015586535295949e-05\n4.8242343304896016e-05\n4.640116585424312e-05\n4.462995421402641e-05\n4.292673463154455e-05\n4.128883017036029e-05\n3.971359921651063e-05\n3.819880522515641e-05\n3.674239401321078e-05\n3.5341132891627396e-05\n3.399371356962226e-05\n3.2697848332584e-05\n3.145166424860408e-05\n3.0253067595992317e-05\n2.910086967441048e-05\n2.799298403017028e-05\n2.692662157128247e-05\n2.5901069934419785e-05\n2.491471209132067e-05\n2.3966098504708307e-05\n"
    }
   ],
   "source": [
    "for t in range(500):\n",
    "    # Forward pass: computing y_pred\n",
    "    z = x.dot(w1) # y = W1*X + b\n",
    "    z_relu = np.maximum(z, 0)\n",
    "    y_pred = z_relu.dot(w2) # y_pred = W2 * y + b\n",
    "\n",
    "    # Compute loss\n",
    "    loss = np.square(y_pred - y).sum()\n",
    "    print(loss)\n",
    "\n",
    "    # Backprop to compute gradients of w1 and w2 with respect to loss\n",
    "    grad_y_pred = 2.0 * (y_pred - y)\n",
    "    grad_w2 = z_relu.T.dot(grad_y_pred)\n",
    "    grad_z_relu = grad_y_pred.dot(w2.T)\n",
    "    grad_z = grad_z_relu.copy()\n",
    "    grad_z[z < 0] = 0\n",
    "    grad_w1 = x.T.dot(grad_z)\n",
    "\n",
    "\n",
    "    # Update weights\n",
    "    w1 -= lr * grad_w1\n",
    "    w2 -= lr * grad_w2\n",
    "\n"
   ]
  },
  {
   "cell_type": "markdown",
   "metadata": {},
   "source": [
    "### PyTorch: Tensors and autograd\n",
    "Thankfully, we can use automatic differentiation to automate the computation of backward passes in neural networks. The autograd package in PyTorch provides exactly this functionality. When using autograd, the forward pass of your network will define a computational graph; nodes in the graph will be Tensors, and edges will be functions that produce output Tensors from input Tensors. Backpropagating through this graph then allows you to easily compute gradients."
   ]
  },
  {
   "cell_type": "code",
   "execution_count": 29,
   "metadata": {},
   "outputs": [],
   "source": [
    "dtype = torch.float\n",
    "device = torch.device(\"cpu\")\n",
    "# device = torch.device(\"cuda:0\") # Uncomment this to run on GPU"
   ]
  },
  {
   "cell_type": "code",
   "execution_count": 30,
   "metadata": {},
   "outputs": [],
   "source": [
    "# N is batch size; D_in is input dimension;\n",
    "# H is hidden dimension; D_out is output dimension.\n",
    "N, D_in, H, D_out = 64, 1000, 100, 10"
   ]
  },
  {
   "cell_type": "code",
   "execution_count": 31,
   "metadata": {},
   "outputs": [],
   "source": [
    "\n",
    "# Create random Tensors to hold input and outputs.\n",
    "# Setting requires_grad=False indicates that we do not need to compute gradients\n",
    "# with respect to these Tensors during the backward pass.\n",
    "x = torch.randn(N, D_in, device=device, dtype=dtype)\n",
    "y = torch.randn(N, D_out, device=device, dtype=dtype)"
   ]
  },
  {
   "cell_type": "code",
   "execution_count": 32,
   "metadata": {},
   "outputs": [],
   "source": [
    "# Create random Tensors for weights.\n",
    "# Setting requires_grad=True indicates that we want to compute gradients with\n",
    "# respect to these Tensors during the backward pass.\n",
    "w1 = torch.randn(D_in, H, device=device, dtype=dtype, requires_grad=True)\n",
    "w2 = torch.randn(H, D_out, device=device, dtype=dtype, requires_grad=True)"
   ]
  },
  {
   "cell_type": "code",
   "execution_count": 35,
   "metadata": {
    "tags": []
   },
   "outputs": [
    {
     "output_type": "stream",
     "name": "stdout",
     "text": "99 2664.96484375\n199 92.51250457763672\n299 4.903074264526367\n399 0.28263676166534424\n499 0.01693444326519966\n"
    }
   ],
   "source": [
    "learning_rate = 1e-6\n",
    "for t in range(500):\n",
    "    # Forward pass: compute predicted y using operations on Tensors; these\n",
    "    # are exactly the same operations we used to compute the forward pass using\n",
    "    # Tensors, but we do not need to keep references to intermediate values since\n",
    "    # we are not implementing the backward pass by hand.\n",
    "    y_pred = x.mm(w1).clamp(min=0).mm(w2) # y1 = w1.dot(X) => y1_relu = max(y1, 0) => y2 = y1_relu.dot(w2)\n",
    "\n",
    "    # Compute and print loss using operations on Tensors.\n",
    "    # Now loss is a Tensor of shape (1,)\n",
    "    # loss.item() gets the scalar value held in the loss.\n",
    "    loss = (y_pred - y).pow(2).sum()\n",
    "    if t % 100 == 99:\n",
    "        print(t, loss.item())\n",
    "\n",
    "    # Use autograd to compute the backward pass. This call will compute the\n",
    "    # gradient of loss with respect to all Tensors with requires_grad=True.\n",
    "    # After this call w1.grad and w2.grad will be Tensors holding the gradient\n",
    "    # of the loss with respect to w1 and w2 respectively.\n",
    "    loss.backward()\n",
    "\n",
    "    # Manually update weights using gradient descent. Wrap in torch.no_grad()\n",
    "    # because weights have requires_grad=True, but we don't need to track this\n",
    "    # in autograd.\n",
    "    # An alternative way is to operate on weight.data and weight.grad.data.\n",
    "    # Recall that tensor.data gives a tensor that shares the storage with\n",
    "    # tensor, but doesn't track history.\n",
    "    # You can also use torch.optim.SGD to achieve this.\n",
    "    with torch.no_grad():\n",
    "        w1 -= learning_rate * w1.grad\n",
    "        w2 -= learning_rate * w2.grad\n",
    "\n",
    "        # Manually zero the gradients after updating weights\n",
    "        w1.grad.zero_()\n",
    "        w2.grad.zero_()"
   ]
  },
  {
   "cell_type": "markdown",
   "metadata": {},
   "source": [
    "### PyTorch: nn"
   ]
  },
  {
   "cell_type": "code",
   "execution_count": 36,
   "metadata": {},
   "outputs": [],
   "source": [
    "# N is batch size; D_in is input dimension;\n",
    "# H is hidden dimension; D_out is output dimension.\n",
    "N, D_in, H, D_out = 64, 100, 1000, 10\n",
    "\n",
    "# Create random Tensors to hold inputs and outputs\n",
    "x = torch.randn(N, D_in)\n",
    "y = torch.randn(N, D_out)"
   ]
  },
  {
   "cell_type": "code",
   "execution_count": 37,
   "metadata": {},
   "outputs": [],
   "source": [
    "# Use the nn package to define our model as a sequence of layers. nn.Sequential\n",
    "# is a Module which contains other Modules, and applies them in sequence to\n",
    "# produce its output. Each Linear Module computes output from input using a\n",
    "# linear function, and holds internal Tensors for its weight and bias."
   ]
  },
  {
   "cell_type": "code",
   "execution_count": 38,
   "metadata": {},
   "outputs": [],
   "source": [
    "model = torch.nn.Sequential(\n",
    "    torch.nn.Linear(D_in, H), # hidden layer\n",
    "    torch.nn.ReLU(),\n",
    "    torch.nn.Linear(H, D_out) # output layer\n",
    ")"
   ]
  },
  {
   "cell_type": "code",
   "execution_count": 39,
   "metadata": {
    "tags": []
   },
   "outputs": [
    {
     "output_type": "stream",
     "name": "stdout",
     "text": "Sequential(\n  (0): Linear(in_features=100, out_features=1000, bias=True)\n  (1): ReLU()\n  (2): Linear(in_features=1000, out_features=10, bias=True)\n)\n"
    }
   ],
   "source": [
    "print(model)"
   ]
  },
  {
   "cell_type": "code",
   "execution_count": 48,
   "metadata": {
    "tags": []
   },
   "outputs": [
    {
     "output_type": "stream",
     "name": "stdout",
     "text": "----------------------------------------------------------------\n        Layer (type)               Output Shape         Param #\n================================================================\n            Linear-1                 [-1, 1000]         101,000\n              ReLU-2                 [-1, 1000]               0\n            Linear-3                   [-1, 10]          10,010\n================================================================\nTotal params: 111,010\nTrainable params: 111,010\nNon-trainable params: 0\n----------------------------------------------------------------\nInput size (MB): 0.00\nForward/backward pass size (MB): 0.02\nParams size (MB): 0.42\nEstimated Total Size (MB): 0.44\n----------------------------------------------------------------\n"
    }
   ],
   "source": [
    "torchsummary.summary(model, input_size=(100,))  # -1 represents batch"
   ]
  },
  {
   "cell_type": "code",
   "execution_count": 49,
   "metadata": {},
   "outputs": [],
   "source": [
    "# The nn package also contains definitions of popular loss functions; in this\n",
    "# case we will use Mean Squared Error (MSE) as our loss function.\n",
    "loss_fn = torch.nn.MSELoss(reduction='sum')"
   ]
  },
  {
   "cell_type": "code",
   "execution_count": 53,
   "metadata": {
    "tags": []
   },
   "outputs": [
    {
     "output_type": "stream",
     "name": "stdout",
     "text": "99 6.714045430733506e-10\n199 5.065459163233754e-10\n299 4.0454908867282313e-10\n399 3.326021957850145e-10\n499 2.824403211310056e-10\n"
    }
   ],
   "source": [
    "learning_rate = 1e-4\n",
    "for t in range(500):\n",
    "    # Forward pass: compute predicted y by passing x to the model. Module objects\n",
    "    # override the __call__ operator so you can call them like functions. When\n",
    "    # doing so you pass a Tensor of input data to the Module and it produces\n",
    "    # a Tensor of output data.\n",
    "    y_pred = model(x)\n",
    "\n",
    "    # Compute and print loss. We pass Tensors containing the predicted and true\n",
    "    # values of y, and the loss function returns a Tensor containing the\n",
    "    # loss.\n",
    "    loss = loss_fn(y_pred, y)\n",
    "    if t % 100 == 99:\n",
    "        print(t, loss.item())\n",
    "\n",
    "    # Zero the gradients before running the backward pass.\n",
    "    model.zero_grad()\n",
    "\n",
    "    # Backward pass: compute gradient of the loss with respect to all the learnable\n",
    "    # parameters of the model. Internally, the parameters of each Module are stored\n",
    "    # in Tensors with requires_grad=True, so this call will compute gradients for\n",
    "    # all learnable parameters in the model.\n",
    "    loss.backward()\n",
    "\n",
    "    # Update the weights using gradient descent. Each parameter is a Tensor, so\n",
    "    # we can access its gradients like we did before.\n",
    "    with torch.no_grad():\n",
    "        for param in model.parameters():\n",
    "            param -= learning_rate * param.grad # w1, b1 => w2, b2"
   ]
  },
  {
   "cell_type": "markdown",
   "metadata": {},
   "source": [
    "### PyTorch: optim"
   ]
  },
  {
   "cell_type": "code",
   "execution_count": 54,
   "metadata": {
    "tags": []
   },
   "outputs": [
    {
     "output_type": "stream",
     "name": "stdout",
     "text": "99 2.0839140688622138e-06\n199 1.0924018634117516e-10\n299 1.5969028183127065e-11\n399 1.9460138361848678e-11\n499 0.0018441888969391584\n"
    }
   ],
   "source": [
    "learning_rate = 1e-4\n",
    "optimizer = torch.optim.Adam(model.parameters(), lr=learning_rate)\n",
    "for t in range(500):\n",
    "    # Forward pass: compute predicted y by passing x to the model.\n",
    "    y_pred = model(x)\n",
    "\n",
    "    # Compute and print loss.\n",
    "    loss = loss_fn(y_pred, y)\n",
    "    if t % 100 == 99:\n",
    "        print(t, loss.item())\n",
    "\n",
    "    # Before the backward pass, use the optimizer object to zero all of the\n",
    "    # gradients for the variables it will update (which are the learnable\n",
    "    # weights of the model). This is because by default, gradients are\n",
    "    # accumulated in buffers( i.e, not overwritten) whenever .backward()\n",
    "    # is called. Checkout docs of torch.autograd.backward for more details.\n",
    "    optimizer.zero_grad()\n",
    "\n",
    "    # Backward pass: compute gradient of the loss with respect to model\n",
    "    # parameters\n",
    "    loss.backward()\n",
    "\n",
    "    # Calling the step function on an Optimizer makes an update to its\n",
    "    # parameters\n",
    "    optimizer.step()"
   ]
  },
  {
   "cell_type": "markdown",
   "metadata": {},
   "source": [
    "### PyTorch: Custom nn Modules\n",
    "Sometimes you will want to specify models that are more complex than a sequence of existing Modules; for these cases you can define your own Modules by subclassing nn.Module and defining a forward which receives input Tensors and produces output Tensors using other modules or other autograd operations on Tensors."
   ]
  },
  {
   "cell_type": "code",
   "execution_count": 56,
   "metadata": {},
   "outputs": [],
   "source": [
    "class Net(nn.Module):\n",
    "    def __init__(self, D_in, H, D_out):\n",
    "        super(Net, self).__init__()\n",
    "        self.linear1 = nn.Linear(D_in, H)\n",
    "        self.linear2 = nn.Linear(H, D_out)\n",
    "    def forward(self, x):\n",
    "        \"\"\"\n",
    "        In the forward function we accept a Tensor of input data and we must return\n",
    "        a Tensor of output data. We can use Modules defined in the constructor as\n",
    "        well as arbitrary operators on Tensors.\n",
    "        \"\"\"\n",
    "        h_relu = self.linear1(x).clamp(min=0)\n",
    "        y_pred = self.linear2(h_relu)\n",
    "        return y_pred   \n"
   ]
  },
  {
   "cell_type": "code",
   "execution_count": 57,
   "metadata": {},
   "outputs": [],
   "source": [
    "# N is batch size; D_in is input dimension;\n",
    "# H is hidden dimension; D_out is output dimension.\n",
    "N, D_in, H, D_out = 64, 1000, 100, 10\n",
    "\n",
    "# Create random Tensors to hold inputs and outputs\n",
    "x = torch.randn(N, D_in)\n",
    "y = torch.randn(N, D_out)\n",
    "\n",
    "# Construct our model by instantiating the class defined above\n",
    "model = Net(D_in, H, D_out)"
   ]
  },
  {
   "cell_type": "code",
   "execution_count": 58,
   "metadata": {
    "tags": []
   },
   "outputs": [
    {
     "output_type": "stream",
     "name": "stdout",
     "text": "Net(\n  (linear1): Linear(in_features=1000, out_features=100, bias=True)\n  (linear2): Linear(in_features=100, out_features=10, bias=True)\n)\n"
    }
   ],
   "source": [
    "print(model)"
   ]
  },
  {
   "cell_type": "code",
   "execution_count": 61,
   "metadata": {},
   "outputs": [],
   "source": [
    "loss_obj  = nn.MSELoss(reduction='sum')\n",
    "optimizer = torch.optim.SGD(model.parameters(), lr=1e-4)"
   ]
  },
  {
   "cell_type": "code",
   "execution_count": 62,
   "metadata": {
    "tags": []
   },
   "outputs": [
    {
     "output_type": "stream",
     "name": "stdout",
     "text": "99 3.2087807655334473\n199 0.07874482870101929\n299 0.0032931994646787643\n399 0.00017603253945708275\n499 1.0847301382455043e-05\n"
    }
   ],
   "source": [
    "for t in range(500):\n",
    "    # Forward pass\n",
    "    y_pred = model(x)\n",
    "\n",
    "    # compute the loss\n",
    "    loss = loss_obj(y_pred, y)\n",
    "    if t % 100 == 99:\n",
    "        print(t, loss.item())\n",
    "    \n",
    "    # Zero gradients, perform a backward pass, and update the weights.\n",
    "    optimizer.zero_grad()\n",
    "    loss.backward()\n",
    "    optimizer.step()"
   ]
  },
  {
   "cell_type": "code",
   "execution_count": null,
   "metadata": {},
   "outputs": [],
   "source": []
  }
 ],
 "metadata": {
  "kernelspec": {
   "display_name": "Python 3",
   "language": "python",
   "name": "python3"
  },
  "language_info": {
   "codemirror_mode": {
    "name": "ipython",
    "version": 3
   },
   "file_extension": ".py",
   "mimetype": "text/x-python",
   "name": "python",
   "nbconvert_exporter": "python",
   "pygments_lexer": "ipython3",
   "version": "3.8.2-final"
  },
  "toc": {
   "base_numbering": 1,
   "nav_menu": {},
   "number_sections": true,
   "sideBar": true,
   "skip_h1_title": false,
   "title_cell": "Table of Contents",
   "title_sidebar": "Contents",
   "toc_cell": false,
   "toc_position": {},
   "toc_section_display": true,
   "toc_window_display": false
  },
  "varInspector": {
   "cols": {
    "lenName": 16,
    "lenType": 16,
    "lenVar": 40
   },
   "kernels_config": {
    "python": {
     "delete_cmd_postfix": "",
     "delete_cmd_prefix": "del ",
     "library": "var_list.py",
     "varRefreshCmd": "print(var_dic_list())"
    },
    "r": {
     "delete_cmd_postfix": ") ",
     "delete_cmd_prefix": "rm(",
     "library": "var_list.r",
     "varRefreshCmd": "cat(var_dic_list()) "
    }
   },
   "types_to_exclude": [
    "module",
    "function",
    "builtin_function_or_method",
    "instance",
    "_Feature"
   ],
   "window_display": false
  }
 },
 "nbformat": 4,
 "nbformat_minor": 4
}